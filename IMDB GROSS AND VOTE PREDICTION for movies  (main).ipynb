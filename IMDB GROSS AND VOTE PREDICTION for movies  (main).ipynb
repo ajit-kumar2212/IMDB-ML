{
 "cells": [
  {
   "cell_type": "markdown",
   "id": "ebc26126",
   "metadata": {},
   "source": [
    "# IMPORT IMPORANT LIBRARIES"
   ]
  },
  {
   "cell_type": "code",
   "execution_count": 1,
   "id": "abc0a41a",
   "metadata": {},
   "outputs": [],
   "source": [
    "import numpy as np\n",
    "import pandas as pd\n",
    "import matplotlib.pyplot as plt\n",
    "import seaborn as sns"
   ]
  },
  {
   "cell_type": "markdown",
   "id": "9dbe838d",
   "metadata": {},
   "source": [
    "# Introduction\n",
    "This dataset contains the information about the movie. \n",
    "For a movie to be commercial success,it depends on various factors like,  \n",
    "movie name,direcctor,rating ,genre, metascore,rating, votes and gross are very important factor \n",
    "to measur the movie success"
   ]
  },
  {
   "cell_type": "markdown",
   "id": "36de67f7",
   "metadata": {},
   "source": [
    "# Background"
   ]
  },
  {
   "cell_type": "markdown",
   "id": "a4b6d532",
   "metadata": {},
   "source": [
    "A commercial success movie not only entertains audience, but also enables film companies to gain tremendous profit. A lot of factors such as good directors, experienced actors are considerable for creating good movies. However, famous directors and actors can always bring an expected box-office income but cannot guarantee a highly rated imdb score."
   ]
  },
  {
   "cell_type": "markdown",
   "id": "a5a2232f",
   "metadata": {},
   "source": [
    "# Description of dataset attributes\n",
    "\n",
    "1.Movie Name= name of movie is given in this \n",
    "\n",
    "2.Year of Release= releasing year are given in this\n",
    "\n",
    "3.Watch Time= total time taken by movie\n",
    "\n",
    "4.Movie Rating= rating of movie given by public\n",
    "\n",
    "5.Metascore of movie= given metascore\n",
    "\n",
    "6.genres= Film categorization like ‘Animation’, ‘Comedy’, ‘Romance’, ‘Horror’, ‘Sci-Fi’, ‘Action’, ‘Family’\n",
    "\n",
    "7.Votes=a vote given by public\n",
    "\n",
    "8.description= full details about movie \n",
    "\n",
    "9.director=name of the movie  director\n",
    "\n",
    "10.star= actors name \n",
    "\n",
    "11. gross=Gross earning of the movie in dollars(millions) "
   ]
  },
  {
   "cell_type": "markdown",
   "id": "08705099",
   "metadata": {},
   "source": [
    "# Read Csv file"
   ]
  },
  {
   "cell_type": "markdown",
   "id": "845b03fc",
   "metadata": {},
   "source": [
    "  "
   ]
  },
  {
   "cell_type": "markdown",
   "id": "29ea53da",
   "metadata": {},
   "source": [
    "Data preprocessing"
   ]
  },
  {
   "cell_type": "markdown",
   "id": "51984668",
   "metadata": {},
   "source": [
    "  "
   ]
  },
  {
   "cell_type": "code",
   "execution_count": 2,
   "id": "3d3d39fa",
   "metadata": {},
   "outputs": [],
   "source": [
    "movie_df=pd.read_csv('final_movie.csv')"
   ]
  },
  {
   "cell_type": "markdown",
   "id": "8f040893",
   "metadata": {},
   "source": [
    "#Displaying the first 5 records\n"
   ]
  },
  {
   "cell_type": "code",
   "execution_count": 3,
   "id": "71713cf4",
   "metadata": {},
   "outputs": [
    {
     "data": {
      "text/html": [
       "<div>\n",
       "<style scoped>\n",
       "    .dataframe tbody tr th:only-of-type {\n",
       "        vertical-align: middle;\n",
       "    }\n",
       "\n",
       "    .dataframe tbody tr th {\n",
       "        vertical-align: top;\n",
       "    }\n",
       "\n",
       "    .dataframe thead th {\n",
       "        text-align: right;\n",
       "    }\n",
       "</style>\n",
       "<table border=\"1\" class=\"dataframe\">\n",
       "  <thead>\n",
       "    <tr style=\"text-align: right;\">\n",
       "      <th></th>\n",
       "      <th>Movie Name</th>\n",
       "      <th>Year of Release</th>\n",
       "      <th>Watch Time</th>\n",
       "      <th>Movie Rating</th>\n",
       "      <th>Metascore of movie</th>\n",
       "      <th>genre</th>\n",
       "      <th>Votes</th>\n",
       "      <th>Description</th>\n",
       "      <th>Director</th>\n",
       "      <th>Star</th>\n",
       "      <th>Gross</th>\n",
       "    </tr>\n",
       "  </thead>\n",
       "  <tbody>\n",
       "    <tr>\n",
       "      <th>0</th>\n",
       "      <td>The Dark Knight</td>\n",
       "      <td>2008</td>\n",
       "      <td>152</td>\n",
       "      <td>9.0</td>\n",
       "      <td>84</td>\n",
       "      <td>['Action', ' Crime', ' Drama']</td>\n",
       "      <td>2747816</td>\n",
       "      <td>When the menace known as the Joker wreaks havo...</td>\n",
       "      <td>Christopher Nolan</td>\n",
       "      <td>['Christian Bale', 'Heath Ledger', 'Aaron Eckh...</td>\n",
       "      <td>534.86</td>\n",
       "    </tr>\n",
       "    <tr>\n",
       "      <th>1</th>\n",
       "      <td>The Lord of the Rings: The Return of the King</td>\n",
       "      <td>2003</td>\n",
       "      <td>201</td>\n",
       "      <td>9.0</td>\n",
       "      <td>94</td>\n",
       "      <td>['Action', ' Adventure', ' Drama']</td>\n",
       "      <td>1901636</td>\n",
       "      <td>Gandalf and Aragorn lead the World of Men agai...</td>\n",
       "      <td>Peter Jackson</td>\n",
       "      <td>['Elijah Wood', 'Viggo Mortensen', 'Ian McKell...</td>\n",
       "      <td>377.85</td>\n",
       "    </tr>\n",
       "    <tr>\n",
       "      <th>2</th>\n",
       "      <td>Spider-Man: Across the Spider-Verse</td>\n",
       "      <td>2023</td>\n",
       "      <td>140</td>\n",
       "      <td>8.9</td>\n",
       "      <td>86</td>\n",
       "      <td>['Animation', ' Action', ' Adventure']</td>\n",
       "      <td>192310</td>\n",
       "      <td>Miles Morales catapults across the Multiverse,...</td>\n",
       "      <td>Directors:Joaquim Dos Santos, Kemp Powers, Jus...</td>\n",
       "      <td>['Shameik Moore', 'Hailee Steinfeld', 'Brian T...</td>\n",
       "      <td>0.00</td>\n",
       "    </tr>\n",
       "    <tr>\n",
       "      <th>3</th>\n",
       "      <td>Inception</td>\n",
       "      <td>2010</td>\n",
       "      <td>148</td>\n",
       "      <td>8.8</td>\n",
       "      <td>74</td>\n",
       "      <td>['Action', ' Adventure', ' Sci-Fi']</td>\n",
       "      <td>2438666</td>\n",
       "      <td>A thief who steals corporate secrets through t...</td>\n",
       "      <td>Christopher Nolan</td>\n",
       "      <td>['Leonardo DiCaprio', 'Joseph Gordon-Levitt', ...</td>\n",
       "      <td>292.58</td>\n",
       "    </tr>\n",
       "    <tr>\n",
       "      <th>4</th>\n",
       "      <td>The Lord of the Rings: The Fellowship of the Ring</td>\n",
       "      <td>2001</td>\n",
       "      <td>178</td>\n",
       "      <td>8.8</td>\n",
       "      <td>92</td>\n",
       "      <td>['Action', ' Adventure', ' Drama']</td>\n",
       "      <td>1929939</td>\n",
       "      <td>A meek Hobbit from the Shire and eight compani...</td>\n",
       "      <td>Peter Jackson</td>\n",
       "      <td>['Elijah Wood', 'Ian McKellen', 'Orlando Bloom...</td>\n",
       "      <td>315.54</td>\n",
       "    </tr>\n",
       "  </tbody>\n",
       "</table>\n",
       "</div>"
      ],
      "text/plain": [
       "                                          Movie Name  Year of Release  \\\n",
       "0                                    The Dark Knight             2008   \n",
       "1      The Lord of the Rings: The Return of the King             2003   \n",
       "2                Spider-Man: Across the Spider-Verse             2023   \n",
       "3                                          Inception             2010   \n",
       "4  The Lord of the Rings: The Fellowship of the Ring             2001   \n",
       "\n",
       "   Watch Time  Movie Rating  Metascore of movie  \\\n",
       "0         152           9.0                  84   \n",
       "1         201           9.0                  94   \n",
       "2         140           8.9                  86   \n",
       "3         148           8.8                  74   \n",
       "4         178           8.8                  92   \n",
       "\n",
       "                                    genre    Votes  \\\n",
       "0          ['Action', ' Crime', ' Drama']  2747816   \n",
       "1      ['Action', ' Adventure', ' Drama']  1901636   \n",
       "2  ['Animation', ' Action', ' Adventure']   192310   \n",
       "3     ['Action', ' Adventure', ' Sci-Fi']  2438666   \n",
       "4      ['Action', ' Adventure', ' Drama']  1929939   \n",
       "\n",
       "                                         Description  \\\n",
       "0  When the menace known as the Joker wreaks havo...   \n",
       "1  Gandalf and Aragorn lead the World of Men agai...   \n",
       "2  Miles Morales catapults across the Multiverse,...   \n",
       "3  A thief who steals corporate secrets through t...   \n",
       "4  A meek Hobbit from the Shire and eight compani...   \n",
       "\n",
       "                                            Director  \\\n",
       "0                                  Christopher Nolan   \n",
       "1                                      Peter Jackson   \n",
       "2  Directors:Joaquim Dos Santos, Kemp Powers, Jus...   \n",
       "3                                  Christopher Nolan   \n",
       "4                                      Peter Jackson   \n",
       "\n",
       "                                                Star   Gross  \n",
       "0  ['Christian Bale', 'Heath Ledger', 'Aaron Eckh...  534.86  \n",
       "1  ['Elijah Wood', 'Viggo Mortensen', 'Ian McKell...  377.85  \n",
       "2  ['Shameik Moore', 'Hailee Steinfeld', 'Brian T...    0.00  \n",
       "3  ['Leonardo DiCaprio', 'Joseph Gordon-Levitt', ...  292.58  \n",
       "4  ['Elijah Wood', 'Ian McKellen', 'Orlando Bloom...  315.54  "
      ]
     },
     "execution_count": 3,
     "metadata": {},
     "output_type": "execute_result"
    }
   ],
   "source": [
    "movie_df.head()"
   ]
  },
  {
   "cell_type": "code",
   "execution_count": 4,
   "id": "e36427a9",
   "metadata": {},
   "outputs": [
    {
     "data": {
      "text/plain": [
       "(500, 11)"
      ]
     },
     "execution_count": 4,
     "metadata": {},
     "output_type": "execute_result"
    }
   ],
   "source": [
    "#Shape of the dataset (no of rows and no of columns)\n",
    "\n",
    "\n",
    "movie_df.shape"
   ]
  },
  {
   "cell_type": "markdown",
   "id": "ea49e6d0",
   "metadata": {},
   "source": [
    "#info of the movie dataset"
   ]
  },
  {
   "cell_type": "code",
   "execution_count": 5,
   "id": "474e0f4d",
   "metadata": {},
   "outputs": [
    {
     "data": {
      "text/plain": [
       "<bound method DataFrame.info of                                             Movie Name  Year of Release  \\\n",
       "0                                      The Dark Knight             2008   \n",
       "1        The Lord of the Rings: The Return of the King             2003   \n",
       "2                  Spider-Man: Across the Spider-Verse             2023   \n",
       "3                                            Inception             2010   \n",
       "4    The Lord of the Rings: The Fellowship of the Ring             2001   \n",
       "..                                                 ...              ...   \n",
       "495                 Kimetsu no Yaiba: Mugen Ressha-Hen             2020   \n",
       "496                        Baahubali 2: The Conclusion             2017   \n",
       "497                                 Gangs of Wasseypur             2012   \n",
       "498                                            Yôjinbô             1961   \n",
       "499                           Uri: The Surgical Strike             2019   \n",
       "\n",
       "     Watch Time  Movie Rating  Metascore of movie  \\\n",
       "0           152           9.0                  84   \n",
       "1           201           9.0                  94   \n",
       "2           140           8.9                  86   \n",
       "3           148           8.8                  74   \n",
       "4           178           8.8                  92   \n",
       "..          ...           ...                 ...   \n",
       "495         117           8.2                  72   \n",
       "496         167           8.2                   0   \n",
       "497         321           8.2                  89   \n",
       "498         110           8.2                  93   \n",
       "499         138           8.2                   0   \n",
       "\n",
       "                                      genre    Votes  \\\n",
       "0            ['Action', ' Crime', ' Drama']  2747816   \n",
       "1        ['Action', ' Adventure', ' Drama']  1901636   \n",
       "2    ['Animation', ' Action', ' Adventure']   192310   \n",
       "3       ['Action', ' Adventure', ' Sci-Fi']  2438666   \n",
       "4        ['Action', ' Adventure', ' Drama']  1929939   \n",
       "..                                      ...      ...   \n",
       "495  ['Animation', ' Action', ' Adventure']    66311   \n",
       "496                    ['Action', ' Drama']   108224   \n",
       "497         ['Action', ' Comedy', ' Crime']    99969   \n",
       "498       ['Action', ' Drama', ' Thriller']   126885   \n",
       "499        ['Action', ' Drama', ' History']    68424   \n",
       "\n",
       "                                           Description  \\\n",
       "0    When the menace known as the Joker wreaks havo...   \n",
       "1    Gandalf and Aragorn lead the World of Men agai...   \n",
       "2    Miles Morales catapults across the Multiverse,...   \n",
       "3    A thief who steals corporate secrets through t...   \n",
       "4    A meek Hobbit from the Shire and eight compani...   \n",
       "..                                                 ...   \n",
       "495  After his family was brutally murdered and his...   \n",
       "496  Amarendra Baahubali, the heir apparent to the ...   \n",
       "497  A clash between Sultan and Shahid Khan leads t...   \n",
       "498  A crafty ronin comes to a town divided by two ...   \n",
       "499  Indian army special forces execute a covert op...   \n",
       "\n",
       "                                              Director  \\\n",
       "0                                    Christopher Nolan   \n",
       "1                                        Peter Jackson   \n",
       "2    Directors:Joaquim Dos Santos, Kemp Powers, Jus...   \n",
       "3                                    Christopher Nolan   \n",
       "4                                        Peter Jackson   \n",
       "..                                                 ...   \n",
       "495                                     Haruo Sotozaki   \n",
       "496                                     S.S. Rajamouli   \n",
       "497                                     Anurag Kashyap   \n",
       "498                                     Akira Kurosawa   \n",
       "499                                        Aditya Dhar   \n",
       "\n",
       "                                                  Star   Gross  \n",
       "0    ['Christian Bale', 'Heath Ledger', 'Aaron Eckh...  534.86  \n",
       "1    ['Elijah Wood', 'Viggo Mortensen', 'Ian McKell...  377.85  \n",
       "2    ['Shameik Moore', 'Hailee Steinfeld', 'Brian T...    0.00  \n",
       "3    ['Leonardo DiCaprio', 'Joseph Gordon-Levitt', ...  292.58  \n",
       "4    ['Elijah Wood', 'Ian McKellen', 'Orlando Bloom...  315.54  \n",
       "..                                                 ...     ...  \n",
       "495  ['Natsuki Hanae', 'Akari Kitô', 'Yoshitsugu Ma...   47.70  \n",
       "496  ['Prabhas', 'Rana Daggubati', 'Anushka Shetty'...   20.19  \n",
       "497  ['Manoj Bajpayee', 'Nawazuddin Siddiqui', 'Tig...    0.00  \n",
       "498  ['Toshirô Mifune', 'Eijirô Tôno', 'Tatsuya Nak...    0.00  \n",
       "499  ['Vicky Kaushal', 'Paresh Rawal', 'Mohit Raina...    4.19  \n",
       "\n",
       "[500 rows x 11 columns]>"
      ]
     },
     "execution_count": 5,
     "metadata": {},
     "output_type": "execute_result"
    }
   ],
   "source": [
    "movie_df.info"
   ]
  },
  {
   "cell_type": "code",
   "execution_count": 6,
   "id": "e95f76ce",
   "metadata": {},
   "outputs": [
    {
     "data": {
      "text/plain": [
       "Index(['Movie Name', 'Year of Release', 'Watch Time', 'Movie Rating',\n",
       "       'Metascore of movie', 'genre', 'Votes', 'Description', 'Director',\n",
       "       'Star', 'Gross'],\n",
       "      dtype='object')"
      ]
     },
     "execution_count": 6,
     "metadata": {},
     "output_type": "execute_result"
    }
   ],
   "source": [
    "#columns of the dataset\n",
    "\n",
    "movie_df.columns"
   ]
  },
  {
   "cell_type": "code",
   "execution_count": 7,
   "id": "56e45125",
   "metadata": {},
   "outputs": [
    {
     "data": {
      "text/plain": [
       "Movie Name             object\n",
       "Year of Release         int64\n",
       "Watch Time              int64\n",
       "Movie Rating          float64\n",
       "Metascore of movie      int64\n",
       "genre                  object\n",
       "Votes                   int64\n",
       "Description            object\n",
       "Director               object\n",
       "Star                   object\n",
       "Gross                 float64\n",
       "dtype: object"
      ]
     },
     "execution_count": 7,
     "metadata": {},
     "output_type": "execute_result"
    }
   ],
   "source": [
    "#Displaying the data type of the dataset attributes \n",
    "\n",
    "movie_df.dtypes"
   ]
  },
  {
   "cell_type": "markdown",
   "id": "c9480abf",
   "metadata": {},
   "source": [
    "#Five point summary for the numerical columns in the dataset\n"
   ]
  },
  {
   "cell_type": "code",
   "execution_count": 8,
   "id": "727e7b8a",
   "metadata": {
    "scrolled": true
   },
   "outputs": [
    {
     "data": {
      "text/html": [
       "<div>\n",
       "<style scoped>\n",
       "    .dataframe tbody tr th:only-of-type {\n",
       "        vertical-align: middle;\n",
       "    }\n",
       "\n",
       "    .dataframe tbody tr th {\n",
       "        vertical-align: top;\n",
       "    }\n",
       "\n",
       "    .dataframe thead th {\n",
       "        text-align: right;\n",
       "    }\n",
       "</style>\n",
       "<table border=\"1\" class=\"dataframe\">\n",
       "  <thead>\n",
       "    <tr style=\"text-align: right;\">\n",
       "      <th></th>\n",
       "      <th>Year of Release</th>\n",
       "      <th>Watch Time</th>\n",
       "      <th>Movie Rating</th>\n",
       "      <th>Metascore of movie</th>\n",
       "      <th>Votes</th>\n",
       "      <th>Gross</th>\n",
       "    </tr>\n",
       "  </thead>\n",
       "  <tbody>\n",
       "    <tr>\n",
       "      <th>count</th>\n",
       "      <td>500.000000</td>\n",
       "      <td>500.000000</td>\n",
       "      <td>500.000000</td>\n",
       "      <td>500.000000</td>\n",
       "      <td>5.000000e+02</td>\n",
       "      <td>500.000000</td>\n",
       "    </tr>\n",
       "    <tr>\n",
       "      <th>mean</th>\n",
       "      <td>2002.700000</td>\n",
       "      <td>147.920000</td>\n",
       "      <td>8.422000</td>\n",
       "      <td>60.000000</td>\n",
       "      <td>7.924391e+05</td>\n",
       "      <td>175.404800</td>\n",
       "    </tr>\n",
       "    <tr>\n",
       "      <th>std</th>\n",
       "      <td>18.646861</td>\n",
       "      <td>33.975023</td>\n",
       "      <td>0.227639</td>\n",
       "      <td>34.960613</td>\n",
       "      <td>6.992853e+05</td>\n",
       "      <td>225.842718</td>\n",
       "    </tr>\n",
       "    <tr>\n",
       "      <th>min</th>\n",
       "      <td>1954.000000</td>\n",
       "      <td>101.000000</td>\n",
       "      <td>8.200000</td>\n",
       "      <td>0.000000</td>\n",
       "      <td>3.158000e+04</td>\n",
       "      <td>0.000000</td>\n",
       "    </tr>\n",
       "    <tr>\n",
       "      <th>25%</th>\n",
       "      <td>1991.000000</td>\n",
       "      <td>130.000000</td>\n",
       "      <td>8.200000</td>\n",
       "      <td>58.000000</td>\n",
       "      <td>1.256580e+05</td>\n",
       "      <td>0.270000</td>\n",
       "    </tr>\n",
       "    <tr>\n",
       "      <th>50%</th>\n",
       "      <td>2005.000000</td>\n",
       "      <td>140.000000</td>\n",
       "      <td>8.350000</td>\n",
       "      <td>73.500000</td>\n",
       "      <td>6.578050e+05</td>\n",
       "      <td>70.305000</td>\n",
       "    </tr>\n",
       "    <tr>\n",
       "      <th>75%</th>\n",
       "      <td>2019.000000</td>\n",
       "      <td>163.000000</td>\n",
       "      <td>8.600000</td>\n",
       "      <td>85.000000</td>\n",
       "      <td>1.197669e+06</td>\n",
       "      <td>292.580000</td>\n",
       "    </tr>\n",
       "    <tr>\n",
       "      <th>max</th>\n",
       "      <td>2023.000000</td>\n",
       "      <td>321.000000</td>\n",
       "      <td>9.000000</td>\n",
       "      <td>98.000000</td>\n",
       "      <td>2.747816e+06</td>\n",
       "      <td>858.370000</td>\n",
       "    </tr>\n",
       "  </tbody>\n",
       "</table>\n",
       "</div>"
      ],
      "text/plain": [
       "       Year of Release  Watch Time  Movie Rating  Metascore of movie  \\\n",
       "count       500.000000  500.000000    500.000000          500.000000   \n",
       "mean       2002.700000  147.920000      8.422000           60.000000   \n",
       "std          18.646861   33.975023      0.227639           34.960613   \n",
       "min        1954.000000  101.000000      8.200000            0.000000   \n",
       "25%        1991.000000  130.000000      8.200000           58.000000   \n",
       "50%        2005.000000  140.000000      8.350000           73.500000   \n",
       "75%        2019.000000  163.000000      8.600000           85.000000   \n",
       "max        2023.000000  321.000000      9.000000           98.000000   \n",
       "\n",
       "              Votes       Gross  \n",
       "count  5.000000e+02  500.000000  \n",
       "mean   7.924391e+05  175.404800  \n",
       "std    6.992853e+05  225.842718  \n",
       "min    3.158000e+04    0.000000  \n",
       "25%    1.256580e+05    0.270000  \n",
       "50%    6.578050e+05   70.305000  \n",
       "75%    1.197669e+06  292.580000  \n",
       "max    2.747816e+06  858.370000  "
      ]
     },
     "execution_count": 8,
     "metadata": {},
     "output_type": "execute_result"
    }
   ],
   "source": [
    "movie_df.describe()"
   ]
  },
  {
   "cell_type": "code",
   "execution_count": 9,
   "id": "bf26049f",
   "metadata": {},
   "outputs": [
    {
     "data": {
      "text/plain": [
       "(500, 11)"
      ]
     },
     "execution_count": 9,
     "metadata": {},
     "output_type": "execute_result"
    }
   ],
   "source": [
    "#shape of dataset\n",
    "movie_df.shape"
   ]
  },
  {
   "cell_type": "code",
   "execution_count": 10,
   "id": "8a31afdb",
   "metadata": {
    "scrolled": true
   },
   "outputs": [
    {
     "data": {
      "text/plain": [
       "Movie Name            0\n",
       "Year of Release       0\n",
       "Watch Time            0\n",
       "Movie Rating          0\n",
       "Metascore of movie    0\n",
       "genre                 0\n",
       "Votes                 0\n",
       "Description           0\n",
       "Director              0\n",
       "Star                  0\n",
       "Gross                 0\n",
       "dtype: int64"
      ]
     },
     "execution_count": 10,
     "metadata": {},
     "output_type": "execute_result"
    }
   ],
   "source": [
    "#check the null value\n",
    "movie_df.isnull().sum()"
   ]
  },
  {
   "cell_type": "markdown",
   "id": "95464481",
   "metadata": {},
   "source": [
    "# drop those value which is not important "
   ]
  },
  {
   "cell_type": "code",
   "execution_count": 11,
   "id": "914fdf85",
   "metadata": {},
   "outputs": [],
   "source": [
    "movie_df.drop('Movie Name',axis=1,inplace=True)"
   ]
  },
  {
   "cell_type": "code",
   "execution_count": 12,
   "id": "493cff6f",
   "metadata": {},
   "outputs": [],
   "source": [
    "movie_df.drop('genre',axis=1,inplace=True)"
   ]
  },
  {
   "cell_type": "code",
   "execution_count": 13,
   "id": "29a87905",
   "metadata": {},
   "outputs": [],
   "source": [
    "movie_df.drop('Description',axis=1,inplace=True)"
   ]
  },
  {
   "cell_type": "code",
   "execution_count": 14,
   "id": "b0d03aa8",
   "metadata": {},
   "outputs": [],
   "source": [
    "movie_df.drop('Director',axis=1,inplace=True)"
   ]
  },
  {
   "cell_type": "code",
   "execution_count": 15,
   "id": "0a5ccce5",
   "metadata": {},
   "outputs": [],
   "source": [
    "movie_df.drop('Star',axis=1,inplace=True)"
   ]
  },
  {
   "cell_type": "code",
   "execution_count": 16,
   "id": "1bec43ac",
   "metadata": {},
   "outputs": [],
   "source": [
    "movie_df=movie_df.dropna()"
   ]
  },
  {
   "cell_type": "markdown",
   "id": "a06dd2be",
   "metadata": {},
   "source": [
    "# Drop the duplicate value"
   ]
  },
  {
   "cell_type": "code",
   "execution_count": 17,
   "id": "18fb8d9b",
   "metadata": {},
   "outputs": [
    {
     "data": {
      "text/plain": [
       "(50, 6)"
      ]
     },
     "execution_count": 17,
     "metadata": {},
     "output_type": "execute_result"
    }
   ],
   "source": [
    "\n",
    "movie_df.drop_duplicates(inplace=True)\n",
    "movie_df.shape"
   ]
  },
  {
   "cell_type": "code",
   "execution_count": 18,
   "id": "cf195049",
   "metadata": {},
   "outputs": [
    {
     "data": {
      "text/html": [
       "<div>\n",
       "<style scoped>\n",
       "    .dataframe tbody tr th:only-of-type {\n",
       "        vertical-align: middle;\n",
       "    }\n",
       "\n",
       "    .dataframe tbody tr th {\n",
       "        vertical-align: top;\n",
       "    }\n",
       "\n",
       "    .dataframe thead th {\n",
       "        text-align: right;\n",
       "    }\n",
       "</style>\n",
       "<table border=\"1\" class=\"dataframe\">\n",
       "  <thead>\n",
       "    <tr style=\"text-align: right;\">\n",
       "      <th></th>\n",
       "      <th>Year of Release</th>\n",
       "      <th>Watch Time</th>\n",
       "      <th>Movie Rating</th>\n",
       "      <th>Metascore of movie</th>\n",
       "      <th>Votes</th>\n",
       "      <th>Gross</th>\n",
       "    </tr>\n",
       "  </thead>\n",
       "  <tbody>\n",
       "    <tr>\n",
       "      <th>0</th>\n",
       "      <td>2008</td>\n",
       "      <td>152</td>\n",
       "      <td>9.0</td>\n",
       "      <td>84</td>\n",
       "      <td>2747816</td>\n",
       "      <td>534.86</td>\n",
       "    </tr>\n",
       "    <tr>\n",
       "      <th>1</th>\n",
       "      <td>2003</td>\n",
       "      <td>201</td>\n",
       "      <td>9.0</td>\n",
       "      <td>94</td>\n",
       "      <td>1901636</td>\n",
       "      <td>377.85</td>\n",
       "    </tr>\n",
       "    <tr>\n",
       "      <th>2</th>\n",
       "      <td>2023</td>\n",
       "      <td>140</td>\n",
       "      <td>8.9</td>\n",
       "      <td>86</td>\n",
       "      <td>192310</td>\n",
       "      <td>0.00</td>\n",
       "    </tr>\n",
       "    <tr>\n",
       "      <th>3</th>\n",
       "      <td>2010</td>\n",
       "      <td>148</td>\n",
       "      <td>8.8</td>\n",
       "      <td>74</td>\n",
       "      <td>2438666</td>\n",
       "      <td>292.58</td>\n",
       "    </tr>\n",
       "    <tr>\n",
       "      <th>4</th>\n",
       "      <td>2001</td>\n",
       "      <td>178</td>\n",
       "      <td>8.8</td>\n",
       "      <td>92</td>\n",
       "      <td>1929939</td>\n",
       "      <td>315.54</td>\n",
       "    </tr>\n",
       "  </tbody>\n",
       "</table>\n",
       "</div>"
      ],
      "text/plain": [
       "   Year of Release  Watch Time  Movie Rating  Metascore of movie    Votes  \\\n",
       "0             2008         152           9.0                  84  2747816   \n",
       "1             2003         201           9.0                  94  1901636   \n",
       "2             2023         140           8.9                  86   192310   \n",
       "3             2010         148           8.8                  74  2438666   \n",
       "4             2001         178           8.8                  92  1929939   \n",
       "\n",
       "    Gross  \n",
       "0  534.86  \n",
       "1  377.85  \n",
       "2    0.00  \n",
       "3  292.58  \n",
       "4  315.54  "
      ]
     },
     "execution_count": 18,
     "metadata": {},
     "output_type": "execute_result"
    }
   ],
   "source": [
    "movie_df.head()"
   ]
  },
  {
   "cell_type": "code",
   "execution_count": 19,
   "id": "fe5dac9a",
   "metadata": {},
   "outputs": [],
   "source": [
    "#We need to categorize the imdb values in the range of 0-300,300-400,400-500 and 500-600 to mark them as the bad,average,good and excellent movies respectively\n",
    "\n",
    "\n",
    "movie_df[\"imdb_binned_gross\"]=pd.cut(movie_df['Gross'], bins=[0,300,400,500,600], right=True, labels=False)+1\n"
   ]
  },
  {
   "cell_type": "code",
   "execution_count": 20,
   "id": "2421a678",
   "metadata": {},
   "outputs": [],
   "source": [
    "#Dropping the Gross column as it is being replaced with the imdb_binned_gross values \n",
    "\n",
    "\n",
    "movie_df.drop('Gross',axis=1,inplace=True)"
   ]
  },
  {
   "cell_type": "code",
   "execution_count": 21,
   "id": "fe63c080",
   "metadata": {},
   "outputs": [
    {
     "data": {
      "text/html": [
       "<div>\n",
       "<style scoped>\n",
       "    .dataframe tbody tr th:only-of-type {\n",
       "        vertical-align: middle;\n",
       "    }\n",
       "\n",
       "    .dataframe tbody tr th {\n",
       "        vertical-align: top;\n",
       "    }\n",
       "\n",
       "    .dataframe thead th {\n",
       "        text-align: right;\n",
       "    }\n",
       "</style>\n",
       "<table border=\"1\" class=\"dataframe\">\n",
       "  <thead>\n",
       "    <tr style=\"text-align: right;\">\n",
       "      <th></th>\n",
       "      <th>Year of Release</th>\n",
       "      <th>Watch Time</th>\n",
       "      <th>Movie Rating</th>\n",
       "      <th>Metascore of movie</th>\n",
       "      <th>Votes</th>\n",
       "      <th>imdb_binned_gross</th>\n",
       "    </tr>\n",
       "  </thead>\n",
       "  <tbody>\n",
       "    <tr>\n",
       "      <th>0</th>\n",
       "      <td>2008</td>\n",
       "      <td>152</td>\n",
       "      <td>9.0</td>\n",
       "      <td>84</td>\n",
       "      <td>2747816</td>\n",
       "      <td>4.0</td>\n",
       "    </tr>\n",
       "    <tr>\n",
       "      <th>1</th>\n",
       "      <td>2003</td>\n",
       "      <td>201</td>\n",
       "      <td>9.0</td>\n",
       "      <td>94</td>\n",
       "      <td>1901636</td>\n",
       "      <td>2.0</td>\n",
       "    </tr>\n",
       "    <tr>\n",
       "      <th>2</th>\n",
       "      <td>2023</td>\n",
       "      <td>140</td>\n",
       "      <td>8.9</td>\n",
       "      <td>86</td>\n",
       "      <td>192310</td>\n",
       "      <td>NaN</td>\n",
       "    </tr>\n",
       "    <tr>\n",
       "      <th>3</th>\n",
       "      <td>2010</td>\n",
       "      <td>148</td>\n",
       "      <td>8.8</td>\n",
       "      <td>74</td>\n",
       "      <td>2438666</td>\n",
       "      <td>1.0</td>\n",
       "    </tr>\n",
       "    <tr>\n",
       "      <th>4</th>\n",
       "      <td>2001</td>\n",
       "      <td>178</td>\n",
       "      <td>8.8</td>\n",
       "      <td>92</td>\n",
       "      <td>1929939</td>\n",
       "      <td>2.0</td>\n",
       "    </tr>\n",
       "  </tbody>\n",
       "</table>\n",
       "</div>"
      ],
      "text/plain": [
       "   Year of Release  Watch Time  Movie Rating  Metascore of movie    Votes  \\\n",
       "0             2008         152           9.0                  84  2747816   \n",
       "1             2003         201           9.0                  94  1901636   \n",
       "2             2023         140           8.9                  86   192310   \n",
       "3             2010         148           8.8                  74  2438666   \n",
       "4             2001         178           8.8                  92  1929939   \n",
       "\n",
       "   imdb_binned_gross  \n",
       "0                4.0  \n",
       "1                2.0  \n",
       "2                NaN  \n",
       "3                1.0  \n",
       "4                2.0  "
      ]
     },
     "execution_count": 21,
     "metadata": {},
     "output_type": "execute_result"
    }
   ],
   "source": [
    "movie_df.head()"
   ]
  },
  {
   "cell_type": "code",
   "execution_count": 22,
   "id": "213c2947",
   "metadata": {},
   "outputs": [],
   "source": [
    "#Removing the NaN value with the dropna\n",
    "\n",
    "movie_df=movie_df.dropna()"
   ]
  },
  {
   "cell_type": "code",
   "execution_count": 23,
   "id": "4ff447e4",
   "metadata": {},
   "outputs": [
    {
     "data": {
      "text/html": [
       "<div>\n",
       "<style scoped>\n",
       "    .dataframe tbody tr th:only-of-type {\n",
       "        vertical-align: middle;\n",
       "    }\n",
       "\n",
       "    .dataframe tbody tr th {\n",
       "        vertical-align: top;\n",
       "    }\n",
       "\n",
       "    .dataframe thead th {\n",
       "        text-align: right;\n",
       "    }\n",
       "</style>\n",
       "<table border=\"1\" class=\"dataframe\">\n",
       "  <thead>\n",
       "    <tr style=\"text-align: right;\">\n",
       "      <th></th>\n",
       "      <th>Year of Release</th>\n",
       "      <th>Watch Time</th>\n",
       "      <th>Movie Rating</th>\n",
       "      <th>Metascore of movie</th>\n",
       "      <th>Votes</th>\n",
       "      <th>imdb_binned_gross</th>\n",
       "    </tr>\n",
       "  </thead>\n",
       "  <tbody>\n",
       "    <tr>\n",
       "      <th>0</th>\n",
       "      <td>2008</td>\n",
       "      <td>152</td>\n",
       "      <td>9.0</td>\n",
       "      <td>84</td>\n",
       "      <td>2747816</td>\n",
       "      <td>4.0</td>\n",
       "    </tr>\n",
       "    <tr>\n",
       "      <th>1</th>\n",
       "      <td>2003</td>\n",
       "      <td>201</td>\n",
       "      <td>9.0</td>\n",
       "      <td>94</td>\n",
       "      <td>1901636</td>\n",
       "      <td>2.0</td>\n",
       "    </tr>\n",
       "    <tr>\n",
       "      <th>3</th>\n",
       "      <td>2010</td>\n",
       "      <td>148</td>\n",
       "      <td>8.8</td>\n",
       "      <td>74</td>\n",
       "      <td>2438666</td>\n",
       "      <td>1.0</td>\n",
       "    </tr>\n",
       "    <tr>\n",
       "      <th>4</th>\n",
       "      <td>2001</td>\n",
       "      <td>178</td>\n",
       "      <td>8.8</td>\n",
       "      <td>92</td>\n",
       "      <td>1929939</td>\n",
       "      <td>2.0</td>\n",
       "    </tr>\n",
       "    <tr>\n",
       "      <th>5</th>\n",
       "      <td>2002</td>\n",
       "      <td>179</td>\n",
       "      <td>8.8</td>\n",
       "      <td>87</td>\n",
       "      <td>1716048</td>\n",
       "      <td>2.0</td>\n",
       "    </tr>\n",
       "  </tbody>\n",
       "</table>\n",
       "</div>"
      ],
      "text/plain": [
       "   Year of Release  Watch Time  Movie Rating  Metascore of movie    Votes  \\\n",
       "0             2008         152           9.0                  84  2747816   \n",
       "1             2003         201           9.0                  94  1901636   \n",
       "3             2010         148           8.8                  74  2438666   \n",
       "4             2001         178           8.8                  92  1929939   \n",
       "5             2002         179           8.8                  87  1716048   \n",
       "\n",
       "   imdb_binned_gross  \n",
       "0                4.0  \n",
       "1                2.0  \n",
       "3                1.0  \n",
       "4                2.0  \n",
       "5                2.0  "
      ]
     },
     "execution_count": 23,
     "metadata": {},
     "output_type": "execute_result"
    }
   ],
   "source": [
    "movie_df.head()"
   ]
  },
  {
   "cell_type": "code",
   "execution_count": 24,
   "id": "174780c4",
   "metadata": {},
   "outputs": [
    {
     "data": {
      "text/plain": [
       "Index(['Year of Release', 'Watch Time', 'Movie Rating', 'Metascore of movie',\n",
       "       'Votes', 'imdb_binned_gross'],\n",
       "      dtype='object')"
      ]
     },
     "execution_count": 24,
     "metadata": {},
     "output_type": "execute_result"
    }
   ],
   "source": [
    "movie_df.columns"
   ]
  },
  {
   "cell_type": "markdown",
   "id": "ea8439c7",
   "metadata": {},
   "source": [
    "#create x and y axis"
   ]
  },
  {
   "cell_type": "code",
   "execution_count": 25,
   "id": "496e0e51",
   "metadata": {},
   "outputs": [],
   "source": [
    "X=movie_df.iloc[:,:-1]\n",
    "y=movie_df.iloc[:,-1]"
   ]
  },
  {
   "cell_type": "code",
   "execution_count": 26,
   "id": "366652cd",
   "metadata": {},
   "outputs": [
    {
     "data": {
      "text/html": [
       "<div>\n",
       "<style scoped>\n",
       "    .dataframe tbody tr th:only-of-type {\n",
       "        vertical-align: middle;\n",
       "    }\n",
       "\n",
       "    .dataframe tbody tr th {\n",
       "        vertical-align: top;\n",
       "    }\n",
       "\n",
       "    .dataframe thead th {\n",
       "        text-align: right;\n",
       "    }\n",
       "</style>\n",
       "<table border=\"1\" class=\"dataframe\">\n",
       "  <thead>\n",
       "    <tr style=\"text-align: right;\">\n",
       "      <th></th>\n",
       "      <th>Year of Release</th>\n",
       "      <th>Watch Time</th>\n",
       "      <th>Movie Rating</th>\n",
       "      <th>Metascore of movie</th>\n",
       "      <th>Votes</th>\n",
       "    </tr>\n",
       "  </thead>\n",
       "  <tbody>\n",
       "    <tr>\n",
       "      <th>0</th>\n",
       "      <td>2008</td>\n",
       "      <td>152</td>\n",
       "      <td>9.0</td>\n",
       "      <td>84</td>\n",
       "      <td>2747816</td>\n",
       "    </tr>\n",
       "    <tr>\n",
       "      <th>1</th>\n",
       "      <td>2003</td>\n",
       "      <td>201</td>\n",
       "      <td>9.0</td>\n",
       "      <td>94</td>\n",
       "      <td>1901636</td>\n",
       "    </tr>\n",
       "    <tr>\n",
       "      <th>3</th>\n",
       "      <td>2010</td>\n",
       "      <td>148</td>\n",
       "      <td>8.8</td>\n",
       "      <td>74</td>\n",
       "      <td>2438666</td>\n",
       "    </tr>\n",
       "    <tr>\n",
       "      <th>4</th>\n",
       "      <td>2001</td>\n",
       "      <td>178</td>\n",
       "      <td>8.8</td>\n",
       "      <td>92</td>\n",
       "      <td>1929939</td>\n",
       "    </tr>\n",
       "    <tr>\n",
       "      <th>5</th>\n",
       "      <td>2002</td>\n",
       "      <td>179</td>\n",
       "      <td>8.8</td>\n",
       "      <td>87</td>\n",
       "      <td>1716048</td>\n",
       "    </tr>\n",
       "  </tbody>\n",
       "</table>\n",
       "</div>"
      ],
      "text/plain": [
       "   Year of Release  Watch Time  Movie Rating  Metascore of movie    Votes\n",
       "0             2008         152           9.0                  84  2747816\n",
       "1             2003         201           9.0                  94  1901636\n",
       "3             2010         148           8.8                  74  2438666\n",
       "4             2001         178           8.8                  92  1929939\n",
       "5             2002         179           8.8                  87  1716048"
      ]
     },
     "execution_count": 26,
     "metadata": {},
     "output_type": "execute_result"
    }
   ],
   "source": [
    "X.head()"
   ]
  },
  {
   "cell_type": "code",
   "execution_count": 27,
   "id": "db311e6e",
   "metadata": {},
   "outputs": [
    {
     "data": {
      "text/plain": [
       "0    4.0\n",
       "1    2.0\n",
       "3    1.0\n",
       "4    2.0\n",
       "5    2.0\n",
       "Name: imdb_binned_gross, dtype: float64"
      ]
     },
     "execution_count": 27,
     "metadata": {},
     "output_type": "execute_result"
    }
   ],
   "source": [
    "y.head()"
   ]
  },
  {
   "cell_type": "markdown",
   "id": "296339b3",
   "metadata": {},
   "source": [
    "# train test split "
   ]
  },
  {
   "cell_type": "code",
   "execution_count": 28,
   "id": "976ba854",
   "metadata": {},
   "outputs": [],
   "source": [
    "from sklearn.model_selection import train_test_split\n",
    "X_train, X_test, y_train, y_test=train_test_split(X,y,test_size=0.3,random_state=100)"
   ]
  },
  {
   "cell_type": "markdown",
   "id": "32ed5645",
   "metadata": {},
   "source": [
    "# feature scalling"
   ]
  },
  {
   "cell_type": "markdown",
   "id": "94a14fe7",
   "metadata": {},
   "source": [
    "  "
   ]
  },
  {
   "cell_type": "markdown",
   "id": "bd5a129b",
   "metadata": {},
   "source": [
    "# StandardScaler"
   ]
  },
  {
   "cell_type": "code",
   "execution_count": 29,
   "id": "79c679ce",
   "metadata": {},
   "outputs": [],
   "source": [
    "from sklearn.preprocessing import StandardScaler\n",
    "sc_X = StandardScaler()\n",
    "X_train = sc_X.fit_transform(X_train)\n",
    "X_test = sc_X.transform(X_test)"
   ]
  },
  {
   "cell_type": "code",
   "execution_count": 30,
   "id": "5a5677fa",
   "metadata": {},
   "outputs": [
    {
     "data": {
      "text/plain": [
       "array([[ 0.42753128, -0.05142512, -0.97200507,  0.10249154,  0.6151548 ],\n",
       "       [ 1.38353874, -0.13903829, -0.97200507, -2.43614499, -1.52633718],\n",
       "       [-0.93819365,  0.91231972, -0.97200507,  1.08167991, -1.43458975],\n",
       "       [ 0.0178138 , -0.22665145,  1.17762152,  0.21129024,  1.28893461],\n",
       "       [ 0.29095879,  2.62077648,  2.46739748,  0.9728812 ,  1.18225104],\n",
       "       [ 1.31525249, -1.05897654, -0.11215443,  0.71901755, -0.7226961 ],\n",
       "       [-1.07476614, -0.44568437, -0.54207975, -0.3327033 , -0.02354745],\n",
       "       [ 1.45182498, -1.05897654, -0.97200507,  0.17502401, -1.52945916],\n",
       "       [-0.11875869, -0.31426462, -0.54207975,  0.32008895, -1.02008922],\n",
       "       [-1.27962488, -0.75233046,  1.17762152,  0.53768637,  0.33995978],\n",
       "       [-3.05506729,  2.88361598,  0.74769621,  1.11794615, -1.10238207]])"
      ]
     },
     "execution_count": 30,
     "metadata": {},
     "output_type": "execute_result"
    }
   ],
   "source": [
    "X_test"
   ]
  },
  {
   "cell_type": "code",
   "execution_count": 31,
   "id": "69db900a",
   "metadata": {},
   "outputs": [
    {
     "data": {
      "text/plain": [
       "38    1.0\n",
       "49    1.0\n",
       "44    1.0\n",
       "6     1.0\n",
       "1     2.0\n",
       "17    1.0\n",
       "27    2.0\n",
       "45    1.0\n",
       "28    1.0\n",
       "7     1.0\n",
       "11    1.0\n",
       "Name: imdb_binned_gross, dtype: float64"
      ]
     },
     "execution_count": 31,
     "metadata": {},
     "output_type": "execute_result"
    }
   ],
   "source": [
    "y_test"
   ]
  },
  {
   "cell_type": "markdown",
   "id": "15fa3a41",
   "metadata": {},
   "source": [
    "# classification  model selection"
   ]
  },
  {
   "cell_type": "markdown",
   "id": "d019e455",
   "metadata": {},
   "source": [
    "# LogisticRegression"
   ]
  },
  {
   "cell_type": "code",
   "execution_count": 32,
   "id": "a38a6016",
   "metadata": {},
   "outputs": [],
   "source": [
    "from sklearn.linear_model import LogisticRegression\n",
    "logit =LogisticRegression()\n",
    "logit.fit(X_train,np.ravel(y_train,order='C'))\n",
    "y_pred=logit.predict(X_test)"
   ]
  },
  {
   "cell_type": "markdown",
   "id": "4e19a901",
   "metadata": {},
   "source": [
    "# Confusion matrix for logistic regression"
   ]
  },
  {
   "cell_type": "code",
   "execution_count": 33,
   "id": "085dac48",
   "metadata": {},
   "outputs": [
    {
     "name": "stdout",
     "output_type": "stream",
     "text": [
      "[[8 1]\n",
      " [1 1]]\n",
      "Accuracy: 0.8181818181818182\n"
     ]
    }
   ],
   "source": [
    "from sklearn import metrics\n",
    "cnf_matrix = metrics.confusion_matrix(y_test, y_pred)\n",
    "print(cnf_matrix)\n",
    "\n",
    "print(\"Accuracy:\",metrics.accuracy_score(y_test, y_pred))"
   ]
  },
  {
   "cell_type": "markdown",
   "id": "121b8383",
   "metadata": {},
   "source": [
    "# KNeighbrosClassifier(KNN)"
   ]
  },
  {
   "cell_type": "code",
   "execution_count": 34,
   "id": "0f785b52",
   "metadata": {},
   "outputs": [
    {
     "name": "stdout",
     "output_type": "stream",
     "text": [
      "[[9 0]\n",
      " [2 0]]\n",
      "Accuracy: 0.8181818181818182\n"
     ]
    }
   ],
   "source": [
    "from sklearn.neighbors import KNeighborsClassifier\n",
    "knn = KNeighborsClassifier(n_neighbors=22)\n",
    "knn.fit(X_train, np.ravel(y_train,order='C'))\n",
    "knnpred = knn.predict(X_test)\n",
    "cnf_matrix = metrics.confusion_matrix(y_test, knnpred)\n",
    "print(cnf_matrix)\n",
    "print(\"Accuracy:\",metrics.accuracy_score(y_test, knnpred))"
   ]
  },
  {
   "cell_type": "markdown",
   "id": "4b80c40d",
   "metadata": {},
   "source": [
    "# SVC(suport vector classifier)"
   ]
  },
  {
   "cell_type": "code",
   "execution_count": 35,
   "id": "42f55d67",
   "metadata": {},
   "outputs": [
    {
     "name": "stdout",
     "output_type": "stream",
     "text": [
      "[[8 1]\n",
      " [2 0]]\n",
      "Accuracy: 0.7272727272727273\n"
     ]
    }
   ],
   "source": [
    "from sklearn.svm import SVC\n",
    "svc= SVC(kernel = 'sigmoid')\n",
    "svc.fit(X_train, np.ravel(y_train,order='C'))\n",
    "svcpred = svc.predict(X_test)\n",
    "cnf_matrix = metrics.confusion_matrix(y_test, svcpred)\n",
    "print(cnf_matrix)\n",
    "print(\"Accuracy:\",metrics.accuracy_score(y_test, svcpred))"
   ]
  },
  {
   "cell_type": "markdown",
   "id": "8b789523",
   "metadata": {},
   "source": [
    "# Naive Bayes"
   ]
  },
  {
   "cell_type": "code",
   "execution_count": 36,
   "id": "661c1c13",
   "metadata": {},
   "outputs": [
    {
     "name": "stdout",
     "output_type": "stream",
     "text": [
      "[[8 0 1]\n",
      " [1 1 0]\n",
      " [0 0 0]]\n",
      "Accuracy: 0.8181818181818182\n"
     ]
    }
   ],
   "source": [
    "from sklearn.naive_bayes import GaussianNB\n",
    "gaussiannb= GaussianNB()\n",
    "gaussiannb.fit(X_train, np.ravel(y_train,order='C'))\n",
    "gaussiannbpred = gaussiannb.predict(X_test)\n",
    "cnf_matrix = metrics.confusion_matrix(y_test, gaussiannbpred)\n",
    "print(cnf_matrix)\n",
    "print(\"Accuracy:\",metrics.accuracy_score(y_test, gaussiannbpred))"
   ]
  },
  {
   "cell_type": "markdown",
   "id": "4d8923b0",
   "metadata": {},
   "source": [
    "# Descision tree classifier"
   ]
  },
  {
   "cell_type": "code",
   "execution_count": 37,
   "id": "c5656b8f",
   "metadata": {},
   "outputs": [
    {
     "name": "stdout",
     "output_type": "stream",
     "text": [
      "[[8 0 1]\n",
      " [1 1 0]\n",
      " [0 0 0]]\n",
      "Accuracy: 0.8181818181818182\n"
     ]
    }
   ],
   "source": [
    "from sklearn.tree import DecisionTreeClassifier\n",
    "dtree = DecisionTreeClassifier(criterion='gini') #criterion = entopy, gini\n",
    "dtree.fit(X_train, np.ravel(y_train,order='C'))\n",
    "dtreepred = dtree.predict(X_test)\n",
    "cnf_matrix = metrics.confusion_matrix(y_test, dtreepred)\n",
    "print(cnf_matrix)\n",
    "print(\"Accuracy:\",metrics.accuracy_score(y_test, dtreepred))"
   ]
  },
  {
   "cell_type": "markdown",
   "id": "27f3fa80",
   "metadata": {},
   "source": [
    "# ADABOOST"
   ]
  },
  {
   "cell_type": "code",
   "execution_count": 38,
   "id": "75a58588",
   "metadata": {},
   "outputs": [
    {
     "name": "stdout",
     "output_type": "stream",
     "text": [
      "[[8 0 1]\n",
      " [1 1 0]\n",
      " [0 0 0]]\n",
      "Accuracy: 0.8181818181818182\n"
     ]
    }
   ],
   "source": [
    "from sklearn.ensemble import AdaBoostClassifier\n",
    "abcl = AdaBoostClassifier(base_estimator=dtree, n_estimators=60)\n",
    "abcl=abcl.fit(X_train,np.ravel(y_train,order='C'))\n",
    "abcl_pred=abcl.predict(X_test)\n",
    "cnf_matrix = metrics.confusion_matrix(y_test, abcl_pred)\n",
    "print(cnf_matrix)\n",
    "print(\"Accuracy:\",metrics.accuracy_score(y_test, abcl_pred))"
   ]
  },
  {
   "cell_type": "markdown",
   "id": "492f6b46",
   "metadata": {},
   "source": [
    "# RandomForestClassifier"
   ]
  },
  {
   "cell_type": "code",
   "execution_count": 39,
   "id": "8c7064e1",
   "metadata": {},
   "outputs": [
    {
     "name": "stdout",
     "output_type": "stream",
     "text": [
      "[[9 0]\n",
      " [1 1]]\n",
      "Accuracy: 0.9090909090909091\n"
     ]
    }
   ],
   "source": [
    "from sklearn.ensemble import RandomForestClassifier\n",
    "rfc = RandomForestClassifier(n_estimators = 200)#criterion = entopy,gini\n",
    "rfc.fit(X_train, np.ravel(y_train,order='C'))\n",
    "rfcpred = rfc.predict(X_test)\n",
    "cnf_matrix = metrics.confusion_matrix(y_test, rfcpred)\n",
    "print(cnf_matrix)\n",
    "print(\"Accuracy:\",metrics.accuracy_score(y_test, rfcpred))"
   ]
  },
  {
   "cell_type": "code",
   "execution_count": 40,
   "id": "9a248d78",
   "metadata": {},
   "outputs": [],
   "source": [
    "#create new dataset and drop imdb_binned_gross\n",
    "\n",
    "new_movie_df=movie_df.pop(\"imdb_binned_gross\")"
   ]
  },
  {
   "cell_type": "markdown",
   "id": "5ecdde62",
   "metadata": {},
   "source": [
    "# BaggingClassifier"
   ]
  },
  {
   "cell_type": "code",
   "execution_count": 41,
   "id": "ad1289fa",
   "metadata": {},
   "outputs": [
    {
     "name": "stdout",
     "output_type": "stream",
     "text": [
      "0.7941176470588235\n"
     ]
    }
   ],
   "source": [
    "\n",
    "from sklearn.ensemble import BaggingClassifier\n",
    "bgcl = BaggingClassifier(n_estimators=60, max_samples=.7 , oob_score=True)\n",
    "\n",
    "bgcl = bgcl.fit(movie_df, new_movie_df)\n",
    "print(bgcl.oob_score_)"
   ]
  },
  {
   "cell_type": "markdown",
   "id": "8c610df3",
   "metadata": {},
   "source": [
    "# Grandientboost"
   ]
  },
  {
   "cell_type": "code",
   "execution_count": 42,
   "id": "86b0d8e5",
   "metadata": {},
   "outputs": [
    {
     "name": "stdout",
     "output_type": "stream",
     "text": [
      "[[9 0]\n",
      " [1 1]]\n",
      "Accuracy: 0.9090909090909091\n"
     ]
    }
   ],
   "source": [
    "from sklearn.ensemble import GradientBoostingClassifier\n",
    "gbcl = GradientBoostingClassifier(n_estimators = 50, learning_rate = 0.09, max_depth=5)\n",
    "gbcl = gbcl.fit(X_train,np.ravel(y_train,order='C'))\n",
    "test_pred = gbcl.predict(X_test)\n",
    "cnf_matrix = metrics.confusion_matrix(y_test, test_pred)\n",
    "print(cnf_matrix)\n",
    "print(\"Accuracy:\",metrics.accuracy_score(y_test, test_pred))"
   ]
  },
  {
   "cell_type": "markdown",
   "id": "04a84c04",
   "metadata": {},
   "source": [
    "# Model Comparision"
   ]
  },
  {
   "cell_type": "code",
   "execution_count": 43,
   "id": "d65ef272",
   "metadata": {},
   "outputs": [
    {
     "name": "stdout",
     "output_type": "stream",
     "text": [
      "Logistic  Reports\n",
      "               precision    recall  f1-score   support\n",
      "\n",
      "         1.0       0.89      0.89      0.89         9\n",
      "         2.0       0.50      0.50      0.50         2\n",
      "\n",
      "    accuracy                           0.82        11\n",
      "   macro avg       0.69      0.69      0.69        11\n",
      "weighted avg       0.82      0.82      0.82        11\n",
      "\n",
      "KNN Reports\n",
      "               precision    recall  f1-score   support\n",
      "\n",
      "         1.0       0.82      1.00      0.90         9\n",
      "         2.0       0.00      0.00      0.00         2\n",
      "\n",
      "    accuracy                           0.82        11\n",
      "   macro avg       0.41      0.50      0.45        11\n",
      "weighted avg       0.67      0.82      0.74        11\n",
      "\n",
      "SVC Reports\n",
      "               precision    recall  f1-score   support\n",
      "\n",
      "         1.0       0.80      0.89      0.84         9\n",
      "         2.0       0.00      0.00      0.00         2\n",
      "\n",
      "    accuracy                           0.73        11\n",
      "   macro avg       0.40      0.44      0.42        11\n",
      "weighted avg       0.65      0.73      0.69        11\n",
      "\n",
      "Naive BayesReports\n",
      "               precision    recall  f1-score   support\n",
      "\n",
      "         1.0       0.89      0.89      0.89         9\n",
      "         2.0       1.00      0.50      0.67         2\n",
      "         3.0       0.00      0.00      0.00         0\n",
      "\n",
      "    accuracy                           0.82        11\n",
      "   macro avg       0.63      0.46      0.52        11\n",
      "weighted avg       0.91      0.82      0.85        11\n",
      "\n",
      "Decision Tree Reports\n",
      "               precision    recall  f1-score   support\n",
      "\n",
      "         1.0       0.89      0.89      0.89         9\n",
      "         2.0       1.00      0.50      0.67         2\n",
      "         3.0       0.00      0.00      0.00         0\n",
      "\n",
      "    accuracy                           0.82        11\n",
      "   macro avg       0.63      0.46      0.52        11\n",
      "weighted avg       0.91      0.82      0.85        11\n",
      "\n",
      "Ada Boosting\n",
      "               precision    recall  f1-score   support\n",
      "\n",
      "         1.0       0.89      0.89      0.89         9\n",
      "         2.0       1.00      0.50      0.67         2\n",
      "         4.0       0.00      0.00      0.00         0\n",
      "\n",
      "    accuracy                           0.82        11\n",
      "   macro avg       0.63      0.46      0.52        11\n",
      "weighted avg       0.91      0.82      0.85        11\n",
      "\n",
      "Random Forests Reports\n",
      "               precision    recall  f1-score   support\n",
      "\n",
      "         1.0       0.90      1.00      0.95         9\n",
      "         2.0       1.00      0.50      0.67         2\n",
      "\n",
      "    accuracy                           0.91        11\n",
      "   macro avg       0.95      0.75      0.81        11\n",
      "weighted avg       0.92      0.91      0.90        11\n",
      "\n",
      "Bagging Clasifier 0.7941176470588235\n",
      "Gradient Boosting               precision    recall  f1-score   support\n",
      "\n",
      "         1.0       0.90      1.00      0.95         9\n",
      "         2.0       1.00      0.50      0.67         2\n",
      "\n",
      "    accuracy                           0.91        11\n",
      "   macro avg       0.95      0.75      0.81        11\n",
      "weighted avg       0.92      0.91      0.90        11\n",
      "\n"
     ]
    },
    {
     "name": "stderr",
     "output_type": "stream",
     "text": [
      "C:\\Users\\Ajit Kumar\\anaconda3\\lib\\site-packages\\sklearn\\metrics\\_classification.py:1318: UndefinedMetricWarning: Precision and F-score are ill-defined and being set to 0.0 in labels with no predicted samples. Use `zero_division` parameter to control this behavior.\n",
      "  _warn_prf(average, modifier, msg_start, len(result))\n",
      "C:\\Users\\Ajit Kumar\\anaconda3\\lib\\site-packages\\sklearn\\metrics\\_classification.py:1318: UndefinedMetricWarning: Precision and F-score are ill-defined and being set to 0.0 in labels with no predicted samples. Use `zero_division` parameter to control this behavior.\n",
      "  _warn_prf(average, modifier, msg_start, len(result))\n",
      "C:\\Users\\Ajit Kumar\\anaconda3\\lib\\site-packages\\sklearn\\metrics\\_classification.py:1318: UndefinedMetricWarning: Precision and F-score are ill-defined and being set to 0.0 in labels with no predicted samples. Use `zero_division` parameter to control this behavior.\n",
      "  _warn_prf(average, modifier, msg_start, len(result))\n",
      "C:\\Users\\Ajit Kumar\\anaconda3\\lib\\site-packages\\sklearn\\metrics\\_classification.py:1318: UndefinedMetricWarning: Recall and F-score are ill-defined and being set to 0.0 in labels with no true samples. Use `zero_division` parameter to control this behavior.\n",
      "  _warn_prf(average, modifier, msg_start, len(result))\n",
      "C:\\Users\\Ajit Kumar\\anaconda3\\lib\\site-packages\\sklearn\\metrics\\_classification.py:1318: UndefinedMetricWarning: Recall and F-score are ill-defined and being set to 0.0 in labels with no true samples. Use `zero_division` parameter to control this behavior.\n",
      "  _warn_prf(average, modifier, msg_start, len(result))\n",
      "C:\\Users\\Ajit Kumar\\anaconda3\\lib\\site-packages\\sklearn\\metrics\\_classification.py:1318: UndefinedMetricWarning: Recall and F-score are ill-defined and being set to 0.0 in labels with no true samples. Use `zero_division` parameter to control this behavior.\n",
      "  _warn_prf(average, modifier, msg_start, len(result))\n",
      "C:\\Users\\Ajit Kumar\\anaconda3\\lib\\site-packages\\sklearn\\metrics\\_classification.py:1318: UndefinedMetricWarning: Recall and F-score are ill-defined and being set to 0.0 in labels with no true samples. Use `zero_division` parameter to control this behavior.\n",
      "  _warn_prf(average, modifier, msg_start, len(result))\n",
      "C:\\Users\\Ajit Kumar\\anaconda3\\lib\\site-packages\\sklearn\\metrics\\_classification.py:1318: UndefinedMetricWarning: Recall and F-score are ill-defined and being set to 0.0 in labels with no true samples. Use `zero_division` parameter to control this behavior.\n",
      "  _warn_prf(average, modifier, msg_start, len(result))\n",
      "C:\\Users\\Ajit Kumar\\anaconda3\\lib\\site-packages\\sklearn\\metrics\\_classification.py:1318: UndefinedMetricWarning: Recall and F-score are ill-defined and being set to 0.0 in labels with no true samples. Use `zero_division` parameter to control this behavior.\n",
      "  _warn_prf(average, modifier, msg_start, len(result))\n",
      "C:\\Users\\Ajit Kumar\\anaconda3\\lib\\site-packages\\sklearn\\metrics\\_classification.py:1318: UndefinedMetricWarning: Recall and F-score are ill-defined and being set to 0.0 in labels with no true samples. Use `zero_division` parameter to control this behavior.\n",
      "  _warn_prf(average, modifier, msg_start, len(result))\n",
      "C:\\Users\\Ajit Kumar\\anaconda3\\lib\\site-packages\\sklearn\\metrics\\_classification.py:1318: UndefinedMetricWarning: Recall and F-score are ill-defined and being set to 0.0 in labels with no true samples. Use `zero_division` parameter to control this behavior.\n",
      "  _warn_prf(average, modifier, msg_start, len(result))\n",
      "C:\\Users\\Ajit Kumar\\anaconda3\\lib\\site-packages\\sklearn\\metrics\\_classification.py:1318: UndefinedMetricWarning: Recall and F-score are ill-defined and being set to 0.0 in labels with no true samples. Use `zero_division` parameter to control this behavior.\n",
      "  _warn_prf(average, modifier, msg_start, len(result))\n"
     ]
    }
   ],
   "source": [
    "from sklearn.metrics import classification_report\n",
    "\n",
    "print('Logistic  Reports\\n',classification_report(y_test, y_pred))\n",
    "print('KNN Reports\\n',classification_report(y_test, knnpred))\n",
    "print('SVC Reports\\n',classification_report(y_test, svcpred))\n",
    "print('Naive BayesReports\\n',classification_report(y_test, gaussiannbpred))\n",
    "print('Decision Tree Reports\\n',classification_report(y_test, dtreepred))\n",
    "print('Ada Boosting\\n',classification_report(y_test, abcl_pred))\n",
    "print('Random Forests Reports\\n',classification_report(y_test, rfcpred))\n",
    "print('Bagging Clasifier',bgcl.oob_score_) \n",
    "print('Gradient Boosting',classification_report(y_test, test_pred))"
   ]
  },
  {
   "cell_type": "markdown",
   "id": "05bab09e",
   "metadata": {},
   "source": [
    "# now we started prediction on vote"
   ]
  },
  {
   "cell_type": "code",
   "execution_count": 44,
   "id": "8795ddfd",
   "metadata": {},
   "outputs": [],
   "source": [
    "movie=pd.read_csv('final_movie.csv')"
   ]
  },
  {
   "cell_type": "code",
   "execution_count": 45,
   "id": "20568947",
   "metadata": {},
   "outputs": [
    {
     "data": {
      "text/html": [
       "<div>\n",
       "<style scoped>\n",
       "    .dataframe tbody tr th:only-of-type {\n",
       "        vertical-align: middle;\n",
       "    }\n",
       "\n",
       "    .dataframe tbody tr th {\n",
       "        vertical-align: top;\n",
       "    }\n",
       "\n",
       "    .dataframe thead th {\n",
       "        text-align: right;\n",
       "    }\n",
       "</style>\n",
       "<table border=\"1\" class=\"dataframe\">\n",
       "  <thead>\n",
       "    <tr style=\"text-align: right;\">\n",
       "      <th></th>\n",
       "      <th>Movie Name</th>\n",
       "      <th>Year of Release</th>\n",
       "      <th>Watch Time</th>\n",
       "      <th>Movie Rating</th>\n",
       "      <th>Metascore of movie</th>\n",
       "      <th>genre</th>\n",
       "      <th>Votes</th>\n",
       "      <th>Description</th>\n",
       "      <th>Director</th>\n",
       "      <th>Star</th>\n",
       "      <th>Gross</th>\n",
       "    </tr>\n",
       "  </thead>\n",
       "  <tbody>\n",
       "    <tr>\n",
       "      <th>0</th>\n",
       "      <td>The Dark Knight</td>\n",
       "      <td>2008</td>\n",
       "      <td>152</td>\n",
       "      <td>9.0</td>\n",
       "      <td>84</td>\n",
       "      <td>['Action', ' Crime', ' Drama']</td>\n",
       "      <td>2747816</td>\n",
       "      <td>When the menace known as the Joker wreaks havo...</td>\n",
       "      <td>Christopher Nolan</td>\n",
       "      <td>['Christian Bale', 'Heath Ledger', 'Aaron Eckh...</td>\n",
       "      <td>534.86</td>\n",
       "    </tr>\n",
       "    <tr>\n",
       "      <th>1</th>\n",
       "      <td>The Lord of the Rings: The Return of the King</td>\n",
       "      <td>2003</td>\n",
       "      <td>201</td>\n",
       "      <td>9.0</td>\n",
       "      <td>94</td>\n",
       "      <td>['Action', ' Adventure', ' Drama']</td>\n",
       "      <td>1901636</td>\n",
       "      <td>Gandalf and Aragorn lead the World of Men agai...</td>\n",
       "      <td>Peter Jackson</td>\n",
       "      <td>['Elijah Wood', 'Viggo Mortensen', 'Ian McKell...</td>\n",
       "      <td>377.85</td>\n",
       "    </tr>\n",
       "    <tr>\n",
       "      <th>2</th>\n",
       "      <td>Spider-Man: Across the Spider-Verse</td>\n",
       "      <td>2023</td>\n",
       "      <td>140</td>\n",
       "      <td>8.9</td>\n",
       "      <td>86</td>\n",
       "      <td>['Animation', ' Action', ' Adventure']</td>\n",
       "      <td>192310</td>\n",
       "      <td>Miles Morales catapults across the Multiverse,...</td>\n",
       "      <td>Directors:Joaquim Dos Santos, Kemp Powers, Jus...</td>\n",
       "      <td>['Shameik Moore', 'Hailee Steinfeld', 'Brian T...</td>\n",
       "      <td>0.00</td>\n",
       "    </tr>\n",
       "    <tr>\n",
       "      <th>3</th>\n",
       "      <td>Inception</td>\n",
       "      <td>2010</td>\n",
       "      <td>148</td>\n",
       "      <td>8.8</td>\n",
       "      <td>74</td>\n",
       "      <td>['Action', ' Adventure', ' Sci-Fi']</td>\n",
       "      <td>2438666</td>\n",
       "      <td>A thief who steals corporate secrets through t...</td>\n",
       "      <td>Christopher Nolan</td>\n",
       "      <td>['Leonardo DiCaprio', 'Joseph Gordon-Levitt', ...</td>\n",
       "      <td>292.58</td>\n",
       "    </tr>\n",
       "    <tr>\n",
       "      <th>4</th>\n",
       "      <td>The Lord of the Rings: The Fellowship of the Ring</td>\n",
       "      <td>2001</td>\n",
       "      <td>178</td>\n",
       "      <td>8.8</td>\n",
       "      <td>92</td>\n",
       "      <td>['Action', ' Adventure', ' Drama']</td>\n",
       "      <td>1929939</td>\n",
       "      <td>A meek Hobbit from the Shire and eight compani...</td>\n",
       "      <td>Peter Jackson</td>\n",
       "      <td>['Elijah Wood', 'Ian McKellen', 'Orlando Bloom...</td>\n",
       "      <td>315.54</td>\n",
       "    </tr>\n",
       "  </tbody>\n",
       "</table>\n",
       "</div>"
      ],
      "text/plain": [
       "                                          Movie Name  Year of Release  \\\n",
       "0                                    The Dark Knight             2008   \n",
       "1      The Lord of the Rings: The Return of the King             2003   \n",
       "2                Spider-Man: Across the Spider-Verse             2023   \n",
       "3                                          Inception             2010   \n",
       "4  The Lord of the Rings: The Fellowship of the Ring             2001   \n",
       "\n",
       "   Watch Time  Movie Rating  Metascore of movie  \\\n",
       "0         152           9.0                  84   \n",
       "1         201           9.0                  94   \n",
       "2         140           8.9                  86   \n",
       "3         148           8.8                  74   \n",
       "4         178           8.8                  92   \n",
       "\n",
       "                                    genre    Votes  \\\n",
       "0          ['Action', ' Crime', ' Drama']  2747816   \n",
       "1      ['Action', ' Adventure', ' Drama']  1901636   \n",
       "2  ['Animation', ' Action', ' Adventure']   192310   \n",
       "3     ['Action', ' Adventure', ' Sci-Fi']  2438666   \n",
       "4      ['Action', ' Adventure', ' Drama']  1929939   \n",
       "\n",
       "                                         Description  \\\n",
       "0  When the menace known as the Joker wreaks havo...   \n",
       "1  Gandalf and Aragorn lead the World of Men agai...   \n",
       "2  Miles Morales catapults across the Multiverse,...   \n",
       "3  A thief who steals corporate secrets through t...   \n",
       "4  A meek Hobbit from the Shire and eight compani...   \n",
       "\n",
       "                                            Director  \\\n",
       "0                                  Christopher Nolan   \n",
       "1                                      Peter Jackson   \n",
       "2  Directors:Joaquim Dos Santos, Kemp Powers, Jus...   \n",
       "3                                  Christopher Nolan   \n",
       "4                                      Peter Jackson   \n",
       "\n",
       "                                                Star   Gross  \n",
       "0  ['Christian Bale', 'Heath Ledger', 'Aaron Eckh...  534.86  \n",
       "1  ['Elijah Wood', 'Viggo Mortensen', 'Ian McKell...  377.85  \n",
       "2  ['Shameik Moore', 'Hailee Steinfeld', 'Brian T...    0.00  \n",
       "3  ['Leonardo DiCaprio', 'Joseph Gordon-Levitt', ...  292.58  \n",
       "4  ['Elijah Wood', 'Ian McKellen', 'Orlando Bloom...  315.54  "
      ]
     },
     "execution_count": 45,
     "metadata": {},
     "output_type": "execute_result"
    }
   ],
   "source": [
    "movie.head()"
   ]
  },
  {
   "cell_type": "code",
   "execution_count": 46,
   "id": "494422fd",
   "metadata": {},
   "outputs": [
    {
     "data": {
      "text/plain": [
       "Index(['Movie Name', 'Year of Release', 'Watch Time', 'Movie Rating',\n",
       "       'Metascore of movie', 'genre', 'Votes', 'Description', 'Director',\n",
       "       'Star', 'Gross'],\n",
       "      dtype='object')"
      ]
     },
     "execution_count": 46,
     "metadata": {},
     "output_type": "execute_result"
    }
   ],
   "source": [
    "movie.columns"
   ]
  },
  {
   "cell_type": "code",
   "execution_count": 47,
   "id": "044d78b8",
   "metadata": {},
   "outputs": [
    {
     "data": {
      "text/html": [
       "<div>\n",
       "<style scoped>\n",
       "    .dataframe tbody tr th:only-of-type {\n",
       "        vertical-align: middle;\n",
       "    }\n",
       "\n",
       "    .dataframe tbody tr th {\n",
       "        vertical-align: top;\n",
       "    }\n",
       "\n",
       "    .dataframe thead th {\n",
       "        text-align: right;\n",
       "    }\n",
       "</style>\n",
       "<table border=\"1\" class=\"dataframe\">\n",
       "  <thead>\n",
       "    <tr style=\"text-align: right;\">\n",
       "      <th></th>\n",
       "      <th>Year of Release</th>\n",
       "      <th>Watch Time</th>\n",
       "      <th>Movie Rating</th>\n",
       "      <th>Metascore of movie</th>\n",
       "      <th>Votes</th>\n",
       "      <th>Gross</th>\n",
       "    </tr>\n",
       "  </thead>\n",
       "  <tbody>\n",
       "    <tr>\n",
       "      <th>count</th>\n",
       "      <td>500.000000</td>\n",
       "      <td>500.000000</td>\n",
       "      <td>500.000000</td>\n",
       "      <td>500.000000</td>\n",
       "      <td>5.000000e+02</td>\n",
       "      <td>500.000000</td>\n",
       "    </tr>\n",
       "    <tr>\n",
       "      <th>mean</th>\n",
       "      <td>2002.700000</td>\n",
       "      <td>147.920000</td>\n",
       "      <td>8.422000</td>\n",
       "      <td>60.000000</td>\n",
       "      <td>7.924391e+05</td>\n",
       "      <td>175.404800</td>\n",
       "    </tr>\n",
       "    <tr>\n",
       "      <th>std</th>\n",
       "      <td>18.646861</td>\n",
       "      <td>33.975023</td>\n",
       "      <td>0.227639</td>\n",
       "      <td>34.960613</td>\n",
       "      <td>6.992853e+05</td>\n",
       "      <td>225.842718</td>\n",
       "    </tr>\n",
       "    <tr>\n",
       "      <th>min</th>\n",
       "      <td>1954.000000</td>\n",
       "      <td>101.000000</td>\n",
       "      <td>8.200000</td>\n",
       "      <td>0.000000</td>\n",
       "      <td>3.158000e+04</td>\n",
       "      <td>0.000000</td>\n",
       "    </tr>\n",
       "    <tr>\n",
       "      <th>25%</th>\n",
       "      <td>1991.000000</td>\n",
       "      <td>130.000000</td>\n",
       "      <td>8.200000</td>\n",
       "      <td>58.000000</td>\n",
       "      <td>1.256580e+05</td>\n",
       "      <td>0.270000</td>\n",
       "    </tr>\n",
       "    <tr>\n",
       "      <th>50%</th>\n",
       "      <td>2005.000000</td>\n",
       "      <td>140.000000</td>\n",
       "      <td>8.350000</td>\n",
       "      <td>73.500000</td>\n",
       "      <td>6.578050e+05</td>\n",
       "      <td>70.305000</td>\n",
       "    </tr>\n",
       "    <tr>\n",
       "      <th>75%</th>\n",
       "      <td>2019.000000</td>\n",
       "      <td>163.000000</td>\n",
       "      <td>8.600000</td>\n",
       "      <td>85.000000</td>\n",
       "      <td>1.197669e+06</td>\n",
       "      <td>292.580000</td>\n",
       "    </tr>\n",
       "    <tr>\n",
       "      <th>max</th>\n",
       "      <td>2023.000000</td>\n",
       "      <td>321.000000</td>\n",
       "      <td>9.000000</td>\n",
       "      <td>98.000000</td>\n",
       "      <td>2.747816e+06</td>\n",
       "      <td>858.370000</td>\n",
       "    </tr>\n",
       "  </tbody>\n",
       "</table>\n",
       "</div>"
      ],
      "text/plain": [
       "       Year of Release  Watch Time  Movie Rating  Metascore of movie  \\\n",
       "count       500.000000  500.000000    500.000000          500.000000   \n",
       "mean       2002.700000  147.920000      8.422000           60.000000   \n",
       "std          18.646861   33.975023      0.227639           34.960613   \n",
       "min        1954.000000  101.000000      8.200000            0.000000   \n",
       "25%        1991.000000  130.000000      8.200000           58.000000   \n",
       "50%        2005.000000  140.000000      8.350000           73.500000   \n",
       "75%        2019.000000  163.000000      8.600000           85.000000   \n",
       "max        2023.000000  321.000000      9.000000           98.000000   \n",
       "\n",
       "              Votes       Gross  \n",
       "count  5.000000e+02  500.000000  \n",
       "mean   7.924391e+05  175.404800  \n",
       "std    6.992853e+05  225.842718  \n",
       "min    3.158000e+04    0.000000  \n",
       "25%    1.256580e+05    0.270000  \n",
       "50%    6.578050e+05   70.305000  \n",
       "75%    1.197669e+06  292.580000  \n",
       "max    2.747816e+06  858.370000  "
      ]
     },
     "execution_count": 47,
     "metadata": {},
     "output_type": "execute_result"
    }
   ],
   "source": [
    "movie.describe()"
   ]
  },
  {
   "cell_type": "code",
   "execution_count": 48,
   "id": "85f10738",
   "metadata": {},
   "outputs": [],
   "source": [
    "movie.drop('Movie Name',axis=1,inplace=True)\n",
    "movie.drop('genre',axis=1,inplace=True)\n",
    "movie.drop('Description',axis=1,inplace=True)\n",
    "movie.drop('Director',axis=1,inplace=True)\n",
    "movie.drop('Star',axis=1,inplace=True)\n",
    "movie.drop('Gross',axis=1,inplace=True)"
   ]
  },
  {
   "cell_type": "code",
   "execution_count": 49,
   "id": "002d40af",
   "metadata": {},
   "outputs": [
    {
     "data": {
      "text/plain": [
       "(50, 5)"
      ]
     },
     "execution_count": 49,
     "metadata": {},
     "output_type": "execute_result"
    }
   ],
   "source": [
    "movie.drop_duplicates(inplace=True)\n",
    "movie.shape"
   ]
  },
  {
   "cell_type": "code",
   "execution_count": 50,
   "id": "3771010b",
   "metadata": {},
   "outputs": [
    {
     "data": {
      "text/html": [
       "<div>\n",
       "<style scoped>\n",
       "    .dataframe tbody tr th:only-of-type {\n",
       "        vertical-align: middle;\n",
       "    }\n",
       "\n",
       "    .dataframe tbody tr th {\n",
       "        vertical-align: top;\n",
       "    }\n",
       "\n",
       "    .dataframe thead th {\n",
       "        text-align: right;\n",
       "    }\n",
       "</style>\n",
       "<table border=\"1\" class=\"dataframe\">\n",
       "  <thead>\n",
       "    <tr style=\"text-align: right;\">\n",
       "      <th></th>\n",
       "      <th>Year of Release</th>\n",
       "      <th>Watch Time</th>\n",
       "      <th>Movie Rating</th>\n",
       "      <th>Metascore of movie</th>\n",
       "      <th>Votes</th>\n",
       "    </tr>\n",
       "  </thead>\n",
       "  <tbody>\n",
       "    <tr>\n",
       "      <th>0</th>\n",
       "      <td>2008</td>\n",
       "      <td>152</td>\n",
       "      <td>9.0</td>\n",
       "      <td>84</td>\n",
       "      <td>2747816</td>\n",
       "    </tr>\n",
       "    <tr>\n",
       "      <th>1</th>\n",
       "      <td>2003</td>\n",
       "      <td>201</td>\n",
       "      <td>9.0</td>\n",
       "      <td>94</td>\n",
       "      <td>1901636</td>\n",
       "    </tr>\n",
       "    <tr>\n",
       "      <th>2</th>\n",
       "      <td>2023</td>\n",
       "      <td>140</td>\n",
       "      <td>8.9</td>\n",
       "      <td>86</td>\n",
       "      <td>192310</td>\n",
       "    </tr>\n",
       "    <tr>\n",
       "      <th>3</th>\n",
       "      <td>2010</td>\n",
       "      <td>148</td>\n",
       "      <td>8.8</td>\n",
       "      <td>74</td>\n",
       "      <td>2438666</td>\n",
       "    </tr>\n",
       "    <tr>\n",
       "      <th>4</th>\n",
       "      <td>2001</td>\n",
       "      <td>178</td>\n",
       "      <td>8.8</td>\n",
       "      <td>92</td>\n",
       "      <td>1929939</td>\n",
       "    </tr>\n",
       "  </tbody>\n",
       "</table>\n",
       "</div>"
      ],
      "text/plain": [
       "   Year of Release  Watch Time  Movie Rating  Metascore of movie    Votes\n",
       "0             2008         152           9.0                  84  2747816\n",
       "1             2003         201           9.0                  94  1901636\n",
       "2             2023         140           8.9                  86   192310\n",
       "3             2010         148           8.8                  74  2438666\n",
       "4             2001         178           8.8                  92  1929939"
      ]
     },
     "execution_count": 50,
     "metadata": {},
     "output_type": "execute_result"
    }
   ],
   "source": [
    "movie.head()"
   ]
  },
  {
   "cell_type": "code",
   "execution_count": 51,
   "id": "e6aa865f",
   "metadata": {},
   "outputs": [],
   "source": [
    "movie[\"imdb_binned_votes\"]=pd.cut(movie['Votes'], bins=[0,100000,300000,1000000,5000000], right=True, labels=False)+1\n"
   ]
  },
  {
   "cell_type": "code",
   "execution_count": 52,
   "id": "58871246",
   "metadata": {},
   "outputs": [
    {
     "data": {
      "text/html": [
       "<div>\n",
       "<style scoped>\n",
       "    .dataframe tbody tr th:only-of-type {\n",
       "        vertical-align: middle;\n",
       "    }\n",
       "\n",
       "    .dataframe tbody tr th {\n",
       "        vertical-align: top;\n",
       "    }\n",
       "\n",
       "    .dataframe thead th {\n",
       "        text-align: right;\n",
       "    }\n",
       "</style>\n",
       "<table border=\"1\" class=\"dataframe\">\n",
       "  <thead>\n",
       "    <tr style=\"text-align: right;\">\n",
       "      <th></th>\n",
       "      <th>Year of Release</th>\n",
       "      <th>Watch Time</th>\n",
       "      <th>Movie Rating</th>\n",
       "      <th>Metascore of movie</th>\n",
       "      <th>Votes</th>\n",
       "      <th>imdb_binned_votes</th>\n",
       "    </tr>\n",
       "  </thead>\n",
       "  <tbody>\n",
       "    <tr>\n",
       "      <th>0</th>\n",
       "      <td>2008</td>\n",
       "      <td>152</td>\n",
       "      <td>9.0</td>\n",
       "      <td>84</td>\n",
       "      <td>2747816</td>\n",
       "      <td>4</td>\n",
       "    </tr>\n",
       "    <tr>\n",
       "      <th>1</th>\n",
       "      <td>2003</td>\n",
       "      <td>201</td>\n",
       "      <td>9.0</td>\n",
       "      <td>94</td>\n",
       "      <td>1901636</td>\n",
       "      <td>4</td>\n",
       "    </tr>\n",
       "    <tr>\n",
       "      <th>2</th>\n",
       "      <td>2023</td>\n",
       "      <td>140</td>\n",
       "      <td>8.9</td>\n",
       "      <td>86</td>\n",
       "      <td>192310</td>\n",
       "      <td>2</td>\n",
       "    </tr>\n",
       "    <tr>\n",
       "      <th>3</th>\n",
       "      <td>2010</td>\n",
       "      <td>148</td>\n",
       "      <td>8.8</td>\n",
       "      <td>74</td>\n",
       "      <td>2438666</td>\n",
       "      <td>4</td>\n",
       "    </tr>\n",
       "    <tr>\n",
       "      <th>4</th>\n",
       "      <td>2001</td>\n",
       "      <td>178</td>\n",
       "      <td>8.8</td>\n",
       "      <td>92</td>\n",
       "      <td>1929939</td>\n",
       "      <td>4</td>\n",
       "    </tr>\n",
       "  </tbody>\n",
       "</table>\n",
       "</div>"
      ],
      "text/plain": [
       "   Year of Release  Watch Time  Movie Rating  Metascore of movie    Votes  \\\n",
       "0             2008         152           9.0                  84  2747816   \n",
       "1             2003         201           9.0                  94  1901636   \n",
       "2             2023         140           8.9                  86   192310   \n",
       "3             2010         148           8.8                  74  2438666   \n",
       "4             2001         178           8.8                  92  1929939   \n",
       "\n",
       "   imdb_binned_votes  \n",
       "0                  4  \n",
       "1                  4  \n",
       "2                  2  \n",
       "3                  4  \n",
       "4                  4  "
      ]
     },
     "execution_count": 52,
     "metadata": {},
     "output_type": "execute_result"
    }
   ],
   "source": [
    "movie.head()"
   ]
  },
  {
   "cell_type": "code",
   "execution_count": 53,
   "id": "95653e12",
   "metadata": {},
   "outputs": [],
   "source": [
    "movie=movie.dropna()"
   ]
  },
  {
   "cell_type": "code",
   "execution_count": 54,
   "id": "89093805",
   "metadata": {},
   "outputs": [
    {
     "data": {
      "text/html": [
       "<div>\n",
       "<style scoped>\n",
       "    .dataframe tbody tr th:only-of-type {\n",
       "        vertical-align: middle;\n",
       "    }\n",
       "\n",
       "    .dataframe tbody tr th {\n",
       "        vertical-align: top;\n",
       "    }\n",
       "\n",
       "    .dataframe thead th {\n",
       "        text-align: right;\n",
       "    }\n",
       "</style>\n",
       "<table border=\"1\" class=\"dataframe\">\n",
       "  <thead>\n",
       "    <tr style=\"text-align: right;\">\n",
       "      <th></th>\n",
       "      <th>Year of Release</th>\n",
       "      <th>Watch Time</th>\n",
       "      <th>Movie Rating</th>\n",
       "      <th>Metascore of movie</th>\n",
       "      <th>imdb_binned_votes</th>\n",
       "    </tr>\n",
       "  </thead>\n",
       "  <tbody>\n",
       "    <tr>\n",
       "      <th>0</th>\n",
       "      <td>2008</td>\n",
       "      <td>152</td>\n",
       "      <td>9.0</td>\n",
       "      <td>84</td>\n",
       "      <td>4</td>\n",
       "    </tr>\n",
       "    <tr>\n",
       "      <th>1</th>\n",
       "      <td>2003</td>\n",
       "      <td>201</td>\n",
       "      <td>9.0</td>\n",
       "      <td>94</td>\n",
       "      <td>4</td>\n",
       "    </tr>\n",
       "    <tr>\n",
       "      <th>2</th>\n",
       "      <td>2023</td>\n",
       "      <td>140</td>\n",
       "      <td>8.9</td>\n",
       "      <td>86</td>\n",
       "      <td>2</td>\n",
       "    </tr>\n",
       "    <tr>\n",
       "      <th>3</th>\n",
       "      <td>2010</td>\n",
       "      <td>148</td>\n",
       "      <td>8.8</td>\n",
       "      <td>74</td>\n",
       "      <td>4</td>\n",
       "    </tr>\n",
       "    <tr>\n",
       "      <th>4</th>\n",
       "      <td>2001</td>\n",
       "      <td>178</td>\n",
       "      <td>8.8</td>\n",
       "      <td>92</td>\n",
       "      <td>4</td>\n",
       "    </tr>\n",
       "  </tbody>\n",
       "</table>\n",
       "</div>"
      ],
      "text/plain": [
       "   Year of Release  Watch Time  Movie Rating  Metascore of movie  \\\n",
       "0             2008         152           9.0                  84   \n",
       "1             2003         201           9.0                  94   \n",
       "2             2023         140           8.9                  86   \n",
       "3             2010         148           8.8                  74   \n",
       "4             2001         178           8.8                  92   \n",
       "\n",
       "   imdb_binned_votes  \n",
       "0                  4  \n",
       "1                  4  \n",
       "2                  2  \n",
       "3                  4  \n",
       "4                  4  "
      ]
     },
     "execution_count": 54,
     "metadata": {},
     "output_type": "execute_result"
    }
   ],
   "source": [
    "movie.drop('Votes',axis=1,inplace=True)\n",
    "movie.head()"
   ]
  },
  {
   "cell_type": "code",
   "execution_count": 55,
   "id": "98dd7e5b",
   "metadata": {},
   "outputs": [
    {
     "data": {
      "text/plain": [
       "Index(['Year of Release', 'Watch Time', 'Movie Rating', 'Metascore of movie',\n",
       "       'imdb_binned_votes'],\n",
       "      dtype='object')"
      ]
     },
     "execution_count": 55,
     "metadata": {},
     "output_type": "execute_result"
    }
   ],
   "source": [
    "movie.columns"
   ]
  },
  {
   "cell_type": "code",
   "execution_count": 56,
   "id": "9e0effeb",
   "metadata": {},
   "outputs": [],
   "source": [
    "X=movie.iloc[:,:-1]\n",
    "y=movie.iloc[:,-1]"
   ]
  },
  {
   "cell_type": "code",
   "execution_count": 57,
   "id": "cb7ff3b3",
   "metadata": {},
   "outputs": [
    {
     "data": {
      "text/html": [
       "<div>\n",
       "<style scoped>\n",
       "    .dataframe tbody tr th:only-of-type {\n",
       "        vertical-align: middle;\n",
       "    }\n",
       "\n",
       "    .dataframe tbody tr th {\n",
       "        vertical-align: top;\n",
       "    }\n",
       "\n",
       "    .dataframe thead th {\n",
       "        text-align: right;\n",
       "    }\n",
       "</style>\n",
       "<table border=\"1\" class=\"dataframe\">\n",
       "  <thead>\n",
       "    <tr style=\"text-align: right;\">\n",
       "      <th></th>\n",
       "      <th>Year of Release</th>\n",
       "      <th>Watch Time</th>\n",
       "      <th>Movie Rating</th>\n",
       "      <th>Metascore of movie</th>\n",
       "    </tr>\n",
       "  </thead>\n",
       "  <tbody>\n",
       "    <tr>\n",
       "      <th>0</th>\n",
       "      <td>2008</td>\n",
       "      <td>152</td>\n",
       "      <td>9.0</td>\n",
       "      <td>84</td>\n",
       "    </tr>\n",
       "    <tr>\n",
       "      <th>1</th>\n",
       "      <td>2003</td>\n",
       "      <td>201</td>\n",
       "      <td>9.0</td>\n",
       "      <td>94</td>\n",
       "    </tr>\n",
       "    <tr>\n",
       "      <th>2</th>\n",
       "      <td>2023</td>\n",
       "      <td>140</td>\n",
       "      <td>8.9</td>\n",
       "      <td>86</td>\n",
       "    </tr>\n",
       "    <tr>\n",
       "      <th>3</th>\n",
       "      <td>2010</td>\n",
       "      <td>148</td>\n",
       "      <td>8.8</td>\n",
       "      <td>74</td>\n",
       "    </tr>\n",
       "    <tr>\n",
       "      <th>4</th>\n",
       "      <td>2001</td>\n",
       "      <td>178</td>\n",
       "      <td>8.8</td>\n",
       "      <td>92</td>\n",
       "    </tr>\n",
       "  </tbody>\n",
       "</table>\n",
       "</div>"
      ],
      "text/plain": [
       "   Year of Release  Watch Time  Movie Rating  Metascore of movie\n",
       "0             2008         152           9.0                  84\n",
       "1             2003         201           9.0                  94\n",
       "2             2023         140           8.9                  86\n",
       "3             2010         148           8.8                  74\n",
       "4             2001         178           8.8                  92"
      ]
     },
     "execution_count": 57,
     "metadata": {},
     "output_type": "execute_result"
    }
   ],
   "source": [
    "X.head()"
   ]
  },
  {
   "cell_type": "code",
   "execution_count": 58,
   "id": "f3161845",
   "metadata": {},
   "outputs": [],
   "source": [
    "from sklearn.model_selection import train_test_split\n",
    "X_train, X_test, y_train, y_test=train_test_split(X,y,test_size=0.3,random_state=100)"
   ]
  },
  {
   "cell_type": "code",
   "execution_count": 59,
   "id": "92b04dbe",
   "metadata": {},
   "outputs": [],
   "source": [
    "from sklearn.preprocessing import StandardScaler\n",
    "sc_X = StandardScaler()\n",
    "X_train = sc_X.fit_transform(X_train)\n",
    "X_test = sc_X.transform(X_test)"
   ]
  },
  {
   "cell_type": "code",
   "execution_count": 60,
   "id": "723dd71b",
   "metadata": {},
   "outputs": [
    {
     "data": {
      "text/plain": [
       "array([[-0.22874392, -0.35483012,  1.23550544,  0.41274459],\n",
       "       [-0.74195144, -0.59781162, -1.08937039,  0.19912447],\n",
       "       [-0.53666843, -0.59781162, -1.08937039,  0.27923201],\n",
       "       [-0.33138542, -0.40882601, -0.62439522,  0.49285213],\n",
       "       [ 0.07918059, -0.4628219 , -1.08937039,  0.11901692],\n",
       "       [ 0.79767111, -0.30083424, -1.08937039, -1.536539  ],\n",
       "       [-0.07478167,  0.80608148,  1.70048061,  0.7865798 ],\n",
       "       [ 0.95163336,  0.6980897 , -0.62439522, -1.536539  ],\n",
       "       [-0.89591369, -0.32783218, -0.15942006,  0.70647225],\n",
       "       [-0.02346091, -1.02977873, -1.08937039,  0.30593453],\n",
       "       [ 0.23314284,  0.07713698,  2.63043095,  0.70647225],\n",
       "       [-2.53817774,  1.56202392,  0.77053028,  1.08030746],\n",
       "       [ 0.43842585,  0.40111231, -0.15942006,  0.54625716],\n",
       "       [ 0.84899186, -0.86779107, -1.08937039,  0.38604207],\n",
       "       [ 0.07918059, -0.24683835, -1.08937039,  0.33263704]])"
      ]
     },
     "execution_count": 60,
     "metadata": {},
     "output_type": "execute_result"
    }
   ],
   "source": [
    "X_test"
   ]
  },
  {
   "cell_type": "code",
   "execution_count": 61,
   "id": "d4d09b22",
   "metadata": {},
   "outputs": [
    {
     "data": {
      "text/plain": [
       "6     4\n",
       "36    3\n",
       "37    4\n",
       "28    3\n",
       "43    4\n",
       "49    1\n",
       "5     4\n",
       "33    1\n",
       "20    3\n",
       "42    4\n",
       "0     4\n",
       "11    3\n",
       "18    4\n",
       "45    1\n",
       "38    4\n",
       "Name: imdb_binned_votes, dtype: int64"
      ]
     },
     "execution_count": 61,
     "metadata": {},
     "output_type": "execute_result"
    }
   ],
   "source": [
    "y_test"
   ]
  },
  {
   "cell_type": "markdown",
   "id": "02ecbc4d",
   "metadata": {},
   "source": [
    "# LOGISTIC REGRESSION"
   ]
  },
  {
   "cell_type": "code",
   "execution_count": 62,
   "id": "a1729e2b",
   "metadata": {},
   "outputs": [],
   "source": [
    "from sklearn.linear_model import LogisticRegression\n",
    "logit =LogisticRegression()\n",
    "logit.fit(X_train,np.ravel(y_train,order='C'))\n",
    "y_pred=logit.predict(X_test)"
   ]
  },
  {
   "cell_type": "markdown",
   "id": "4afcab64",
   "metadata": {},
   "source": [
    "# CONFUSION METRICS"
   ]
  },
  {
   "cell_type": "code",
   "execution_count": 63,
   "id": "35a9f77f",
   "metadata": {},
   "outputs": [
    {
     "name": "stdout",
     "output_type": "stream",
     "text": [
      "[[1 1 1 0]\n",
      " [0 0 0 0]\n",
      " [0 0 2 2]\n",
      " [0 0 4 4]]\n",
      "Accuracy: 0.4666666666666667\n"
     ]
    }
   ],
   "source": [
    "from sklearn import metrics\n",
    "cnf_matrix = metrics.confusion_matrix(y_test, y_pred)\n",
    "print(cnf_matrix)\n",
    "\n",
    "print(\"Accuracy:\",metrics.accuracy_score(y_test, y_pred))"
   ]
  },
  {
   "cell_type": "markdown",
   "id": "ffa5b73f",
   "metadata": {},
   "source": [
    "# KNEIGHBROSCLASSIFIER(KNN)"
   ]
  },
  {
   "cell_type": "code",
   "execution_count": 64,
   "id": "727ba68c",
   "metadata": {},
   "outputs": [
    {
     "name": "stdout",
     "output_type": "stream",
     "text": [
      "[[0 3 0]\n",
      " [0 0 4]\n",
      " [0 2 6]]\n",
      "Accuracy: 0.4\n"
     ]
    }
   ],
   "source": [
    "from sklearn.neighbors import KNeighborsClassifier\n",
    "knn = KNeighborsClassifier(n_neighbors=22)\n",
    "knn.fit(X_train, np.ravel(y_train,order='C'))\n",
    "knnpred = knn.predict(X_test)\n",
    "cnf_matrix = metrics.confusion_matrix(y_test, knnpred)\n",
    "print(cnf_matrix)\n",
    "print(\"Accuracy:\",metrics.accuracy_score(y_test, knnpred))"
   ]
  },
  {
   "cell_type": "markdown",
   "id": "86306312",
   "metadata": {},
   "source": [
    "# SVC"
   ]
  },
  {
   "cell_type": "code",
   "execution_count": 65,
   "id": "1960e5dd",
   "metadata": {},
   "outputs": [
    {
     "name": "stdout",
     "output_type": "stream",
     "text": [
      "[[0 2 1 0]\n",
      " [0 0 0 0]\n",
      " [0 0 2 2]\n",
      " [0 0 4 4]]\n",
      "Accuracy: 0.4\n"
     ]
    }
   ],
   "source": [
    "from sklearn.svm import SVC\n",
    "svc= SVC(kernel = 'sigmoid')\n",
    "svc.fit(X_train, np.ravel(y_train,order='C'))\n",
    "svcpred = svc.predict(X_test)\n",
    "cnf_matrix = metrics.confusion_matrix(y_test, svcpred)\n",
    "print(cnf_matrix)\n",
    "print(\"Accuracy:\",metrics.accuracy_score(y_test, svcpred))"
   ]
  },
  {
   "cell_type": "markdown",
   "id": "23e9cddc",
   "metadata": {},
   "source": [
    "# GaussianNB"
   ]
  },
  {
   "cell_type": "code",
   "execution_count": 66,
   "id": "ab66c6e1",
   "metadata": {},
   "outputs": [
    {
     "name": "stdout",
     "output_type": "stream",
     "text": [
      "[[1 1 1 0]\n",
      " [0 0 0 0]\n",
      " [0 0 3 1]\n",
      " [0 0 4 4]]\n",
      "Accuracy: 0.5333333333333333\n"
     ]
    }
   ],
   "source": [
    "\n",
    "from sklearn.naive_bayes import GaussianNB\n",
    "gaussiannb= GaussianNB()\n",
    "gaussiannb.fit(X_train, np.ravel(y_train,order='C'))\n",
    "gaussiannbpred = gaussiannb.predict(X_test)\n",
    "cnf_matrix = metrics.confusion_matrix(y_test, gaussiannbpred)\n",
    "print(cnf_matrix)\n",
    "print(\"Accuracy:\",metrics.accuracy_score(y_test, gaussiannbpred))"
   ]
  },
  {
   "cell_type": "markdown",
   "id": "c7cdfe75",
   "metadata": {},
   "source": [
    "# DecissionTreeClassifier"
   ]
  },
  {
   "cell_type": "code",
   "execution_count": 67,
   "id": "acb7e488",
   "metadata": {},
   "outputs": [
    {
     "name": "stdout",
     "output_type": "stream",
     "text": [
      "[[1 1 1 0]\n",
      " [0 0 0 0]\n",
      " [1 0 2 1]\n",
      " [0 0 4 4]]\n",
      "Accuracy: 0.4666666666666667\n"
     ]
    }
   ],
   "source": [
    "from sklearn.tree import DecisionTreeClassifier\n",
    "dtree = DecisionTreeClassifier(criterion='gini') #criterion = entopy, gini\n",
    "dtree.fit(X_train, np.ravel(y_train,order='C'))\n",
    "dtreepred = dtree.predict(X_test)\n",
    "cnf_matrix = metrics.confusion_matrix(y_test, dtreepred)\n",
    "print(cnf_matrix)\n",
    "print(\"Accuracy:\",metrics.accuracy_score(y_test, dtreepred))"
   ]
  },
  {
   "cell_type": "markdown",
   "id": "67d66ef2",
   "metadata": {},
   "source": [
    "# AdaBoostClassifier"
   ]
  },
  {
   "cell_type": "code",
   "execution_count": 68,
   "id": "17c043fc",
   "metadata": {},
   "outputs": [
    {
     "name": "stdout",
     "output_type": "stream",
     "text": [
      "[[1 1 1 0]\n",
      " [0 0 0 0]\n",
      " [1 0 2 1]\n",
      " [0 0 3 5]]\n",
      "Accuracy: 0.5333333333333333\n"
     ]
    }
   ],
   "source": [
    "from sklearn.ensemble import AdaBoostClassifier\n",
    "abcl = AdaBoostClassifier(base_estimator=dtree, n_estimators=60)\n",
    "abcl=abcl.fit(X_train,np.ravel(y_train,order='C'))\n",
    "abcl_pred=abcl.predict(X_test)\n",
    "cnf_matrix = metrics.confusion_matrix(y_test, abcl_pred)\n",
    "print(cnf_matrix)\n",
    "print(\"Accuracy:\",metrics.accuracy_score(y_test, abcl_pred))"
   ]
  },
  {
   "cell_type": "markdown",
   "id": "8dca48d4",
   "metadata": {},
   "source": [
    "# RandomForestClassifier"
   ]
  },
  {
   "cell_type": "code",
   "execution_count": 69,
   "id": "9db4f8a8",
   "metadata": {},
   "outputs": [
    {
     "name": "stdout",
     "output_type": "stream",
     "text": [
      "[[0 2 1 0]\n",
      " [0 0 0 0]\n",
      " [0 0 2 2]\n",
      " [0 0 4 4]]\n",
      "Accuracy: 0.4\n"
     ]
    }
   ],
   "source": [
    "from sklearn.ensemble import RandomForestClassifier\n",
    "rfc = RandomForestClassifier(n_estimators = 200)#criterion = entopy,gini\n",
    "rfc.fit(X_train, np.ravel(y_train,order='C'))\n",
    "rfcpred = rfc.predict(X_test)\n",
    "cnf_matrix = metrics.confusion_matrix(y_test, rfcpred)\n",
    "print(cnf_matrix)\n",
    "print(\"Accuracy:\",metrics.accuracy_score(y_test, rfcpred))"
   ]
  },
  {
   "cell_type": "markdown",
   "id": "02d0ac1c",
   "metadata": {},
   "source": [
    "create new table"
   ]
  },
  {
   "cell_type": "code",
   "execution_count": 70,
   "id": "2da6dc97",
   "metadata": {},
   "outputs": [],
   "source": [
    "new_movie=movie.pop(\"imdb_binned_votes\")"
   ]
  },
  {
   "cell_type": "markdown",
   "id": "41390d33",
   "metadata": {},
   "source": [
    "# BaggingClassifier"
   ]
  },
  {
   "cell_type": "code",
   "execution_count": 71,
   "id": "f8e96043",
   "metadata": {},
   "outputs": [
    {
     "name": "stdout",
     "output_type": "stream",
     "text": [
      "0.54\n"
     ]
    }
   ],
   "source": [
    "\n",
    "from sklearn.ensemble import BaggingClassifier\n",
    "bgcl = BaggingClassifier(n_estimators=60, max_samples=.7 , oob_score=True)\n",
    "\n",
    "bgcl = bgcl.fit(movie, new_movie)\n",
    "print(bgcl.oob_score_)"
   ]
  },
  {
   "cell_type": "markdown",
   "id": "6032d404",
   "metadata": {},
   "source": [
    "# GradientBoostingClassifier"
   ]
  },
  {
   "cell_type": "code",
   "execution_count": 72,
   "id": "5cdd3749",
   "metadata": {},
   "outputs": [
    {
     "name": "stdout",
     "output_type": "stream",
     "text": [
      "[[1 1 1 0]\n",
      " [0 0 0 0]\n",
      " [0 0 1 3]\n",
      " [0 0 1 7]]\n",
      "Accuracy: 0.6\n"
     ]
    }
   ],
   "source": [
    "from sklearn.ensemble import GradientBoostingClassifier\n",
    "gbcl = GradientBoostingClassifier(n_estimators = 50, learning_rate = 0.09, max_depth=5)\n",
    "gbcl = gbcl.fit(X_train,np.ravel(y_train,order='C'))\n",
    "test_pred = gbcl.predict(X_test)\n",
    "cnf_matrix = metrics.confusion_matrix(y_test, test_pred)\n",
    "print(cnf_matrix)\n",
    "print(\"Accuracy:\",metrics.accuracy_score(y_test, test_pred))"
   ]
  },
  {
   "cell_type": "markdown",
   "id": "3bb8b822",
   "metadata": {},
   "source": [
    "# Model Comparision"
   ]
  },
  {
   "cell_type": "code",
   "execution_count": 73,
   "id": "6040825b",
   "metadata": {},
   "outputs": [
    {
     "name": "stdout",
     "output_type": "stream",
     "text": [
      "Logistic  Reports\n",
      "               precision    recall  f1-score   support\n",
      "\n",
      "           1       1.00      0.33      0.50         3\n",
      "           2       0.00      0.00      0.00         0\n",
      "           3       0.29      0.50      0.36         4\n",
      "           4       0.67      0.50      0.57         8\n",
      "\n",
      "    accuracy                           0.47        15\n",
      "   macro avg       0.49      0.33      0.36        15\n",
      "weighted avg       0.63      0.47      0.50        15\n",
      "\n",
      "KNN Reports\n",
      "               precision    recall  f1-score   support\n",
      "\n",
      "           1       0.00      0.00      0.00         3\n",
      "           3       0.00      0.00      0.00         4\n",
      "           4       0.60      0.75      0.67         8\n",
      "\n",
      "    accuracy                           0.40        15\n",
      "   macro avg       0.20      0.25      0.22        15\n",
      "weighted avg       0.32      0.40      0.36        15\n",
      "\n",
      "SVC Reports\n",
      "               precision    recall  f1-score   support\n",
      "\n",
      "           1       0.00      0.00      0.00         3\n",
      "           2       0.00      0.00      0.00         0\n",
      "           3       0.29      0.50      0.36         4\n",
      "           4       0.67      0.50      0.57         8\n",
      "\n",
      "    accuracy                           0.40        15\n",
      "   macro avg       0.24      0.25      0.23        15\n",
      "weighted avg       0.43      0.40      0.40        15\n",
      "\n",
      "Naive BayesReports\n",
      "               precision    recall  f1-score   support\n",
      "\n",
      "           1       1.00      0.33      0.50         3\n",
      "           2       0.00      0.00      0.00         0\n",
      "           3       0.38      0.75      0.50         4\n",
      "           4       0.80      0.50      0.62         8\n",
      "\n",
      "    accuracy                           0.53        15\n",
      "   macro avg       0.54      0.40      0.40        15\n",
      "weighted avg       0.73      0.53      0.56        15\n",
      "\n",
      "Decision Tree Reports\n",
      "               precision    recall  f1-score   support\n",
      "\n",
      "           1       0.50      0.33      0.40         3\n",
      "           2       0.00      0.00      0.00         0\n",
      "           3       0.29      0.50      0.36         4\n",
      "           4       0.80      0.50      0.62         8\n",
      "\n",
      "    accuracy                           0.47        15\n",
      "   macro avg       0.40      0.33      0.34        15\n",
      "weighted avg       0.60      0.47      0.51        15\n",
      "\n",
      "Ada Boosting\n",
      "               precision    recall  f1-score   support\n",
      "\n",
      "           1       0.50      0.33      0.40         3\n",
      "           2       0.00      0.00      0.00         0\n",
      "           3       0.33      0.50      0.40         4\n",
      "           4       0.83      0.62      0.71         8\n",
      "\n",
      "    accuracy                           0.53        15\n",
      "   macro avg       0.42      0.36      0.38        15\n",
      "weighted avg       0.63      0.53      0.57        15\n",
      "\n",
      "Random Forests Reports\n",
      "               precision    recall  f1-score   support\n",
      "\n",
      "           1       0.00      0.00      0.00         3\n",
      "           2       0.00      0.00      0.00         0\n",
      "           3       0.29      0.50      0.36         4\n",
      "           4       0.67      0.50      0.57         8\n",
      "\n",
      "    accuracy                           0.40        15\n",
      "   macro avg       0.24      0.25      0.23        15\n",
      "weighted avg       0.43      0.40      0.40        15\n",
      "\n",
      "Bagging Clasifier 0.54\n",
      "Gradient Boosting               precision    recall  f1-score   support\n",
      "\n",
      "           1       1.00      0.33      0.50         3\n",
      "           2       0.00      0.00      0.00         0\n",
      "           3       0.33      0.25      0.29         4\n",
      "           4       0.70      0.88      0.78         8\n",
      "\n",
      "    accuracy                           0.60        15\n",
      "   macro avg       0.51      0.36      0.39        15\n",
      "weighted avg       0.66      0.60      0.59        15\n",
      "\n"
     ]
    },
    {
     "name": "stderr",
     "output_type": "stream",
     "text": [
      "C:\\Users\\Ajit Kumar\\anaconda3\\lib\\site-packages\\sklearn\\metrics\\_classification.py:1318: UndefinedMetricWarning: Recall and F-score are ill-defined and being set to 0.0 in labels with no true samples. Use `zero_division` parameter to control this behavior.\n",
      "  _warn_prf(average, modifier, msg_start, len(result))\n",
      "C:\\Users\\Ajit Kumar\\anaconda3\\lib\\site-packages\\sklearn\\metrics\\_classification.py:1318: UndefinedMetricWarning: Recall and F-score are ill-defined and being set to 0.0 in labels with no true samples. Use `zero_division` parameter to control this behavior.\n",
      "  _warn_prf(average, modifier, msg_start, len(result))\n",
      "C:\\Users\\Ajit Kumar\\anaconda3\\lib\\site-packages\\sklearn\\metrics\\_classification.py:1318: UndefinedMetricWarning: Recall and F-score are ill-defined and being set to 0.0 in labels with no true samples. Use `zero_division` parameter to control this behavior.\n",
      "  _warn_prf(average, modifier, msg_start, len(result))\n",
      "C:\\Users\\Ajit Kumar\\anaconda3\\lib\\site-packages\\sklearn\\metrics\\_classification.py:1318: UndefinedMetricWarning: Precision and F-score are ill-defined and being set to 0.0 in labels with no predicted samples. Use `zero_division` parameter to control this behavior.\n",
      "  _warn_prf(average, modifier, msg_start, len(result))\n",
      "C:\\Users\\Ajit Kumar\\anaconda3\\lib\\site-packages\\sklearn\\metrics\\_classification.py:1318: UndefinedMetricWarning: Precision and F-score are ill-defined and being set to 0.0 in labels with no predicted samples. Use `zero_division` parameter to control this behavior.\n",
      "  _warn_prf(average, modifier, msg_start, len(result))\n",
      "C:\\Users\\Ajit Kumar\\anaconda3\\lib\\site-packages\\sklearn\\metrics\\_classification.py:1318: UndefinedMetricWarning: Precision and F-score are ill-defined and being set to 0.0 in labels with no predicted samples. Use `zero_division` parameter to control this behavior.\n",
      "  _warn_prf(average, modifier, msg_start, len(result))\n",
      "C:\\Users\\Ajit Kumar\\anaconda3\\lib\\site-packages\\sklearn\\metrics\\_classification.py:1318: UndefinedMetricWarning: Precision and F-score are ill-defined and being set to 0.0 in labels with no predicted samples. Use `zero_division` parameter to control this behavior.\n",
      "  _warn_prf(average, modifier, msg_start, len(result))\n",
      "C:\\Users\\Ajit Kumar\\anaconda3\\lib\\site-packages\\sklearn\\metrics\\_classification.py:1318: UndefinedMetricWarning: Recall and F-score are ill-defined and being set to 0.0 in labels with no true samples. Use `zero_division` parameter to control this behavior.\n",
      "  _warn_prf(average, modifier, msg_start, len(result))\n",
      "C:\\Users\\Ajit Kumar\\anaconda3\\lib\\site-packages\\sklearn\\metrics\\_classification.py:1318: UndefinedMetricWarning: Precision and F-score are ill-defined and being set to 0.0 in labels with no predicted samples. Use `zero_division` parameter to control this behavior.\n",
      "  _warn_prf(average, modifier, msg_start, len(result))\n",
      "C:\\Users\\Ajit Kumar\\anaconda3\\lib\\site-packages\\sklearn\\metrics\\_classification.py:1318: UndefinedMetricWarning: Recall and F-score are ill-defined and being set to 0.0 in labels with no true samples. Use `zero_division` parameter to control this behavior.\n",
      "  _warn_prf(average, modifier, msg_start, len(result))\n",
      "C:\\Users\\Ajit Kumar\\anaconda3\\lib\\site-packages\\sklearn\\metrics\\_classification.py:1318: UndefinedMetricWarning: Precision and F-score are ill-defined and being set to 0.0 in labels with no predicted samples. Use `zero_division` parameter to control this behavior.\n",
      "  _warn_prf(average, modifier, msg_start, len(result))\n",
      "C:\\Users\\Ajit Kumar\\anaconda3\\lib\\site-packages\\sklearn\\metrics\\_classification.py:1318: UndefinedMetricWarning: Recall and F-score are ill-defined and being set to 0.0 in labels with no true samples. Use `zero_division` parameter to control this behavior.\n",
      "  _warn_prf(average, modifier, msg_start, len(result))\n",
      "C:\\Users\\Ajit Kumar\\anaconda3\\lib\\site-packages\\sklearn\\metrics\\_classification.py:1318: UndefinedMetricWarning: Recall and F-score are ill-defined and being set to 0.0 in labels with no true samples. Use `zero_division` parameter to control this behavior.\n",
      "  _warn_prf(average, modifier, msg_start, len(result))\n",
      "C:\\Users\\Ajit Kumar\\anaconda3\\lib\\site-packages\\sklearn\\metrics\\_classification.py:1318: UndefinedMetricWarning: Recall and F-score are ill-defined and being set to 0.0 in labels with no true samples. Use `zero_division` parameter to control this behavior.\n",
      "  _warn_prf(average, modifier, msg_start, len(result))\n",
      "C:\\Users\\Ajit Kumar\\anaconda3\\lib\\site-packages\\sklearn\\metrics\\_classification.py:1318: UndefinedMetricWarning: Recall and F-score are ill-defined and being set to 0.0 in labels with no true samples. Use `zero_division` parameter to control this behavior.\n",
      "  _warn_prf(average, modifier, msg_start, len(result))\n",
      "C:\\Users\\Ajit Kumar\\anaconda3\\lib\\site-packages\\sklearn\\metrics\\_classification.py:1318: UndefinedMetricWarning: Recall and F-score are ill-defined and being set to 0.0 in labels with no true samples. Use `zero_division` parameter to control this behavior.\n",
      "  _warn_prf(average, modifier, msg_start, len(result))\n",
      "C:\\Users\\Ajit Kumar\\anaconda3\\lib\\site-packages\\sklearn\\metrics\\_classification.py:1318: UndefinedMetricWarning: Recall and F-score are ill-defined and being set to 0.0 in labels with no true samples. Use `zero_division` parameter to control this behavior.\n",
      "  _warn_prf(average, modifier, msg_start, len(result))\n",
      "C:\\Users\\Ajit Kumar\\anaconda3\\lib\\site-packages\\sklearn\\metrics\\_classification.py:1318: UndefinedMetricWarning: Recall and F-score are ill-defined and being set to 0.0 in labels with no true samples. Use `zero_division` parameter to control this behavior.\n",
      "  _warn_prf(average, modifier, msg_start, len(result))\n",
      "C:\\Users\\Ajit Kumar\\anaconda3\\lib\\site-packages\\sklearn\\metrics\\_classification.py:1318: UndefinedMetricWarning: Recall and F-score are ill-defined and being set to 0.0 in labels with no true samples. Use `zero_division` parameter to control this behavior.\n",
      "  _warn_prf(average, modifier, msg_start, len(result))\n",
      "C:\\Users\\Ajit Kumar\\anaconda3\\lib\\site-packages\\sklearn\\metrics\\_classification.py:1318: UndefinedMetricWarning: Recall and F-score are ill-defined and being set to 0.0 in labels with no true samples. Use `zero_division` parameter to control this behavior.\n",
      "  _warn_prf(average, modifier, msg_start, len(result))\n",
      "C:\\Users\\Ajit Kumar\\anaconda3\\lib\\site-packages\\sklearn\\metrics\\_classification.py:1318: UndefinedMetricWarning: Recall and F-score are ill-defined and being set to 0.0 in labels with no true samples. Use `zero_division` parameter to control this behavior.\n",
      "  _warn_prf(average, modifier, msg_start, len(result))\n",
      "C:\\Users\\Ajit Kumar\\anaconda3\\lib\\site-packages\\sklearn\\metrics\\_classification.py:1318: UndefinedMetricWarning: Precision and F-score are ill-defined and being set to 0.0 in labels with no predicted samples. Use `zero_division` parameter to control this behavior.\n",
      "  _warn_prf(average, modifier, msg_start, len(result))\n",
      "C:\\Users\\Ajit Kumar\\anaconda3\\lib\\site-packages\\sklearn\\metrics\\_classification.py:1318: UndefinedMetricWarning: Recall and F-score are ill-defined and being set to 0.0 in labels with no true samples. Use `zero_division` parameter to control this behavior.\n",
      "  _warn_prf(average, modifier, msg_start, len(result))\n",
      "C:\\Users\\Ajit Kumar\\anaconda3\\lib\\site-packages\\sklearn\\metrics\\_classification.py:1318: UndefinedMetricWarning: Precision and F-score are ill-defined and being set to 0.0 in labels with no predicted samples. Use `zero_division` parameter to control this behavior.\n",
      "  _warn_prf(average, modifier, msg_start, len(result))\n",
      "C:\\Users\\Ajit Kumar\\anaconda3\\lib\\site-packages\\sklearn\\metrics\\_classification.py:1318: UndefinedMetricWarning: Recall and F-score are ill-defined and being set to 0.0 in labels with no true samples. Use `zero_division` parameter to control this behavior.\n",
      "  _warn_prf(average, modifier, msg_start, len(result))\n",
      "C:\\Users\\Ajit Kumar\\anaconda3\\lib\\site-packages\\sklearn\\metrics\\_classification.py:1318: UndefinedMetricWarning: Precision and F-score are ill-defined and being set to 0.0 in labels with no predicted samples. Use `zero_division` parameter to control this behavior.\n",
      "  _warn_prf(average, modifier, msg_start, len(result))\n",
      "C:\\Users\\Ajit Kumar\\anaconda3\\lib\\site-packages\\sklearn\\metrics\\_classification.py:1318: UndefinedMetricWarning: Recall and F-score are ill-defined and being set to 0.0 in labels with no true samples. Use `zero_division` parameter to control this behavior.\n",
      "  _warn_prf(average, modifier, msg_start, len(result))\n",
      "C:\\Users\\Ajit Kumar\\anaconda3\\lib\\site-packages\\sklearn\\metrics\\_classification.py:1318: UndefinedMetricWarning: Recall and F-score are ill-defined and being set to 0.0 in labels with no true samples. Use `zero_division` parameter to control this behavior.\n",
      "  _warn_prf(average, modifier, msg_start, len(result))\n",
      "C:\\Users\\Ajit Kumar\\anaconda3\\lib\\site-packages\\sklearn\\metrics\\_classification.py:1318: UndefinedMetricWarning: Recall and F-score are ill-defined and being set to 0.0 in labels with no true samples. Use `zero_division` parameter to control this behavior.\n",
      "  _warn_prf(average, modifier, msg_start, len(result))\n",
      "C:\\Users\\Ajit Kumar\\anaconda3\\lib\\site-packages\\sklearn\\metrics\\_classification.py:1318: UndefinedMetricWarning: Recall and F-score are ill-defined and being set to 0.0 in labels with no true samples. Use `zero_division` parameter to control this behavior.\n",
      "  _warn_prf(average, modifier, msg_start, len(result))\n"
     ]
    }
   ],
   "source": [
    "from sklearn.metrics import classification_report\n",
    "\n",
    "print('Logistic  Reports\\n',classification_report(y_test, y_pred))\n",
    "print('KNN Reports\\n',classification_report(y_test, knnpred))\n",
    "print('SVC Reports\\n',classification_report(y_test, svcpred))\n",
    "print('Naive BayesReports\\n',classification_report(y_test, gaussiannbpred))\n",
    "print('Decision Tree Reports\\n',classification_report(y_test, dtreepred))\n",
    "print('Ada Boosting\\n',classification_report(y_test, abcl_pred))\n",
    "print('Random Forests Reports\\n',classification_report(y_test, rfcpred))\n",
    "print('Bagging Clasifier',bgcl.oob_score_) \n",
    "print('Gradient Boosting',classification_report(y_test, test_pred))"
   ]
  },
  {
   "cell_type": "markdown",
   "id": "faeb4dcd",
   "metadata": {},
   "source": [
    "# Conclusion"
   ]
  },
  {
   "cell_type": "markdown",
   "id": "be7a9765",
   "metadata": {},
   "source": [
    "# 🤗🤗🤗🤗"
   ]
  },
  {
   "cell_type": "markdown",
   "id": "f9dd2ebf",
   "metadata": {},
   "source": [
    "we predict on both gross and vote and we have worked on so many tools in this project like,logistic regression,cnf,KNN,SVC,GaussianNB,DT many more an get so empressive accuracy value of imdb.i learn so many things with the help of this project and its to much helpfull for my experience.Thank you so much to sir or mam who provided this type of project...thank you💁💁💁"
   ]
  },
  {
   "cell_type": "code",
   "execution_count": null,
   "id": "10c49298",
   "metadata": {},
   "outputs": [],
   "source": []
  }
 ],
 "metadata": {
  "kernelspec": {
   "display_name": "Python 3 (ipykernel)",
   "language": "python",
   "name": "python3"
  },
  "language_info": {
   "codemirror_mode": {
    "name": "ipython",
    "version": 3
   },
   "file_extension": ".py",
   "mimetype": "text/x-python",
   "name": "python",
   "nbconvert_exporter": "python",
   "pygments_lexer": "ipython3",
   "version": "3.9.12"
  }
 },
 "nbformat": 4,
 "nbformat_minor": 5
}
